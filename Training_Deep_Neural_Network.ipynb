{
  "nbformat": 4,
  "nbformat_minor": 0,
  "metadata": {
    "colab": {
      "name": "Training Deep Neural Network.ipynb",
      "provenance": [],
      "collapsed_sections": [],
      "authorship_tag": "ABX9TyP3jveli1MQ1sY7pjO5rGiK",
      "include_colab_link": true
    },
    "kernelspec": {
      "name": "python3",
      "display_name": "Python 3"
    }
  },
  "cells": [
    {
      "cell_type": "markdown",
      "metadata": {
        "id": "view-in-github",
        "colab_type": "text"
      },
      "source": [
        "<a href=\"https://colab.research.google.com/github/chandan2294/Artificial-Neural-Network/blob/master/Training_Deep_Neural_Network.ipynb\" target=\"_parent\"><img src=\"https://colab.research.google.com/assets/colab-badge.svg\" alt=\"Open In Colab\"/></a>"
      ]
    },
    {
      "cell_type": "markdown",
      "metadata": {
        "id": "VMfSeMKQbzQS"
      },
      "source": [
        "**Index:**\n",
        "\n",
        "\n",
        "\n",
        "1.   Vanishing/Exploding Gradients Problem\n",
        "2.   Glorot and He Initialization\n",
        "3. Nonsaturating Activation Functions\n",
        "  *   Leaky ReLU\n",
        "  *   ELU Activation Function\n",
        "  *   SELU\n",
        "  *   Batch Normalization\n",
        "4. Gradient Clipping\n",
        "5. Reusing Pretrained Layers\n",
        "  *   Reusing a Keras model\n",
        "6. Faster Optimizers\n",
        "  *   Momentum Optimization\n",
        "  *   Nesterov Accelerated Gradient\n",
        "  *   AdaGrad\n",
        "  *   RMSProp\n",
        "  *   Adam Optimization\n",
        "  *   Adamax Optimization\n",
        "  *   Nadam Optimization\n",
        "7. Learning Rate Scheduling\n",
        "  *   Power Scheduling\n",
        "  *   Exponential Scheduling\n",
        "  * Piecewise Constant Scheduling\n",
        "  * Performance Scheduling\n",
        "  * 1Cycle Scheduling\n",
        "8. Avoid Overfitting Through Regularization\n",
        "  * L1 and L2 Regularization\n",
        "  * Dropout\n",
        "  * Alpha Dropout\n",
        "  * MC Dropout\n",
        "  * Max Norm\n",
        "  \n",
        "\n",
        "\n",
        "\n",
        "\n",
        "\n",
        "\n",
        "\n",
        "\n",
        "\n",
        "\n",
        "\n",
        "\n",
        "\n",
        "\n",
        "\n"
      ]
    },
    {
      "cell_type": "code",
      "metadata": {
        "id": "aUKaNuEJN1in"
      },
      "source": [
        "#Setup\n",
        "\n",
        "import sys\n",
        "assert sys.version_info >= (3, 5)\n",
        "\n",
        "#Scikit-Learn >= 0.20 is require\n",
        "import sklearn\n",
        "assert sklearn.__version__ >= \"0.20\"\n",
        "\n",
        "try:\n",
        "  %tensorflow_version 2.x\n",
        "except Exception:\n",
        "  pass\n",
        "\n",
        "import tensorflow as tf\n",
        "from tensorflow import keras\n",
        "assert tf.__version__ >= \"0.20\"\n",
        "\n",
        "%load_ext tensorboard\n",
        "\n",
        "#Common imports\n",
        "import numpy as np\n",
        "import os\n",
        "\n",
        "#To plot pretty figures\n",
        "%matplotlib inline\n",
        "import matplotlib as mpl\n",
        "import matplotlib.pyplot as plt\n",
        "mpl.rc('axes', labelsize = 14)\n",
        "mpl.rc('xtick', labelsize = 12)\n",
        "mpl.rc('ytick', labelsize = 12)"
      ],
      "execution_count": null,
      "outputs": []
    },
    {
      "cell_type": "markdown",
      "metadata": {
        "id": "3idlsFWRPhvI"
      },
      "source": [
        "# **Vanishing/Exploding Gradients Problem**\n",
        "\n",
        "The backpropagation algorithm works by going from\n",
        "the output layer to the input layer, propagating the error gradient along the way. Once\n",
        "the algorithm has computed the gradient of the cost function with regard to each\n",
        "parameter in the network, it uses these gradients to update each parameter with a\n",
        "Gradient Descent step.\n",
        "\n",
        "Unfortunately, gradients often get smaller and smaller as the algorithm progresses\n",
        "down to the lower layers. As a result, the Gradient Descent update leaves the lower\n",
        "layers’ connection weights virtually unchanged, and training never converges to a\n",
        "good solution. We call this the vanishing gradients problem. In some cases, the oppo\n",
        "site\n",
        "can happen: the gradients can grow bigger and bigger until layers get insanely\n",
        "large weight updates and the algorithm diverges. This is the exploding gradients prob\n",
        "lem,\n",
        "which surfaces in recurrent neural networks. More generally,\n",
        "deep neural networks suffer from unstable gradients; different layers may learn at\n",
        "widely different speeds.\n",
        "\n"
      ]
    },
    {
      "cell_type": "code",
      "metadata": {
        "id": "auJ-KrV24YyG"
      },
      "source": [
        "def logit(z):\n",
        "  return 1/(1 + np.exp(-z))"
      ],
      "execution_count": null,
      "outputs": []
    },
    {
      "cell_type": "code",
      "metadata": {
        "id": "AxXYfa8b4gqg",
        "colab": {
          "base_uri": "https://localhost:8080/",
          "height": 285
        },
        "outputId": "8884717a-9dae-4023-bf84-cdd5ee9606e7"
      },
      "source": [
        "z = np.linspace(-5, 5, 200)\n",
        "\n",
        "plt.plot([-5, 5], [0, 0], 'k-')\n",
        "plt.plot([-5, 5], [1, 1], 'k--')\n",
        "plt.plot([0, 0], [-0.2, 1.2], 'k-')\n",
        "plt.plot([-5, 5], [-3/4, 7/4], 'g--')\n",
        "plt.plot(z, logit(z), \"b-\", linewidth = 2)\n",
        "props = dict(facecolor = 'black', shrink = 0.1)\n",
        "plt.annotate('Saturating', xytext = (3.5, 0.7), xy = (5, 1), arrowprops = props, fontsize = 14, ha = 'center')\n",
        "plt.annotate('Saturating', xytext = (-3.5, 0.3), xy = (-5, 0), arrowprops = props, fontsize = 14, ha = 'center')\n",
        "plt.annotate('Linear', xytext = (2, 0.2), xy = (0, 0.5), arrowprops = props, fontsize = 14, ha = \"center\")\n",
        "plt.grid(True)\n",
        "plt.title(\"Sigmoid activation function\", fontsize = 14)\n",
        "plt.axis([-5, 5, -0.2, 1.2])\n",
        "plt.show()"
      ],
      "execution_count": null,
      "outputs": [
        {
          "output_type": "display_data",
          "data": {
            "image/png": "[encoded data removed]",
            "text/plain": [
              "<Figure size 432x288 with 1 Axes>"
            ]
          },
          "metadata": {
            "tags": [],
            "needs_background": "light"
          }
        }
      ]
    },
    {
      "cell_type": "markdown",
      "metadata": {
        "id": "kTBchXTu6c6t"
      },
      "source": [
        "Looking at the logistic activation function, you can see that when\n",
        "inputs become large (negative or positive), the function saturates at 0 or 1, with a\n",
        "derivative extremely close to 0. Thus, when backpropagation kicks in it has virtually\n",
        "no gradient to propagate back through the network; and what little gradient exists\n",
        "keeps getting diluted as backpropagation progresses down through the top layers, so\n",
        "there is really nothing left for the lower layers."
      ]
    },
    {
      "cell_type": "markdown",
      "metadata": {
        "id": "Pf02xOLp6llu"
      },
      "source": [
        "# Glorot and He initialization\n",
        "\n",
        "In their paper, Glorot and Bengio propose a way to significantly alleviate the unstable\n",
        "gradients problem. They point out that we need the signal to flow properly in both\n",
        "directions: in the forward direction when making predictions, and in the reverse\n",
        "direction when backpropagating gradients. We don’t want the signal to die out, nor\n",
        "do we want it to explode and saturate. For the signal to flow properly, the authors\n",
        "argue that we need the variance of the outputs of each layer to be equal to the variance\n",
        "of its inputs, and we need the gradients to have equal variance before and after\n",
        "flowing through a layer in the reverse direction. \n",
        "\n",
        "They proposed that connection weights of each layer must be initialized randomly and this initializing strategy is called *Xavier initialization* or *Glorot Initialization*. With the help of this initialization you can speed up trianing considerably.\n",
        "\n",
        "*The initialization strategy for the ReLU activation function (and its variants) is sometimes called He initialization*"
      ]
    },
    {
      "cell_type": "code",
      "metadata": {
        "id": "ILx_kAtm8NgB",
        "colab": {
          "base_uri": "https://localhost:8080/",
          "height": 459
        },
        "outputId": "03246560-5857-400d-c886-1cebc2184b93"
      },
      "source": [
        "[name for name in dir(keras.initializers) if not name.startswith(\"_\")]"
      ],
      "execution_count": null,
      "outputs": [
        {
          "output_type": "execute_result",
          "data": {
            "text/plain": [
              "['Constant',\n",
              " 'GlorotNormal',\n",
              " 'GlorotUniform',\n",
              " 'Identity',\n",
              " 'Initializer',\n",
              " 'Ones',\n",
              " 'Orthogonal',\n",
              " 'RandomNormal',\n",
              " 'RandomUniform',\n",
              " 'TruncatedNormal',\n",
              " 'VarianceScaling',\n",
              " 'Zeros',\n",
              " 'constant',\n",
              " 'deserialize',\n",
              " 'get',\n",
              " 'glorot_normal',\n",
              " 'glorot_uniform',\n",
              " 'he_normal',\n",
              " 'he_uniform',\n",
              " 'identity',\n",
              " 'lecun_normal',\n",
              " 'lecun_uniform',\n",
              " 'ones',\n",
              " 'orthogonal',\n",
              " 'serialize',\n",
              " 'zeros']"
            ]
          },
          "metadata": {
            "tags": []
          },
          "execution_count": 5
        }
      ]
    },
    {
      "cell_type": "code",
      "metadata": {
        "id": "n2Jvx-PM8kqD",
        "colab": {
          "base_uri": "https://localhost:8080/",
          "height": 34
        },
        "outputId": "22d3369e-79ad-402e-c4b9-c42754098546"
      },
      "source": [
        "#Default = \"Glorot initialization with a uniform distribution\"\n",
        "\n",
        "keras.layers.Dense(10, activation = 'relu', kernel_initializer='he_normal')"
      ],
      "execution_count": null,
      "outputs": [
        {
          "output_type": "execute_result",
          "data": {
            "text/plain": [
              "<tensorflow.python.keras.layers.core.Dense at 0x7f835a6ed518>"
            ]
          },
          "metadata": {
            "tags": []
          },
          "execution_count": 6
        }
      ]
    },
    {
      "cell_type": "code",
      "metadata": {
        "id": "TEsVBz7V81XQ",
        "colab": {
          "base_uri": "https://localhost:8080/",
          "height": 34
        },
        "outputId": "d09fa549-f2d8-4796-fb66-6f85f1abf7b4"
      },
      "source": [
        "#Initializing He Initialization with a uniform distribution\n",
        "init = keras.initializers.VarianceScaling(scale = 2, mode = 'fan_avg',\n",
        "                                          distribution = 'uniform')\n",
        "keras.layers.Dense(10, activation='relu', kernel_initializer=init)"
      ],
      "execution_count": null,
      "outputs": [
        {
          "output_type": "execute_result",
          "data": {
            "text/plain": [
              "<tensorflow.python.keras.layers.core.Dense at 0x7f835a6ee390>"
            ]
          },
          "metadata": {
            "tags": []
          },
          "execution_count": 7
        }
      ]
    },
    {
      "cell_type": "markdown",
      "metadata": {
        "id": "P4R86ek69cJl"
      },
      "source": [
        "# Nonsaturating Activation Functions\n",
        "\n",
        "The ReLU activation function suffers from a problem\n",
        "known as the dying ReLUs: during training, some neurons effectively “die,” meaning\n",
        "they stop outputting anything other than 0. In some cases, you may find that half of\n",
        "your network’s neurons are dead, especially if you used a large learning rate. A neuron\n",
        "dies when its weights get tweaked in such a way that the weighted sum of its\n",
        "inputs are negative for all instances in the training set. When this happens, it just keeps outputting zeros, and Gradient Descent does not affect it anymore because the\n",
        "gradient of the ReLU function is zero when its input is negative. To solve this problem, you may want to use a variant of the ReLU function, such as the *leaky ReLU*"
      ]
    },
    {
      "cell_type": "markdown",
      "metadata": {
        "id": "CaO31Gt9-MNS"
      },
      "source": [
        "**Leaky ReLU:**"
      ]
    },
    {
      "cell_type": "code",
      "metadata": {
        "id": "sVAzHQgi-LDj"
      },
      "source": [
        "def leaky_relu(z, alpha = 0.01):\n",
        "  \"\"\"\n",
        "  Leaky ReLU(z) = max(alpha*z, z).\n",
        "  alpha = how much the function \"leaks\": it is the slope of the function for \n",
        "  z < 0 and it is typically set to 0.01. This small slope ensures that leaky ReLUs\n",
        "  never die.\n",
        "  \"\"\"\n",
        "  return np.maximum(alpha*z, z)"
      ],
      "execution_count": null,
      "outputs": []
    },
    {
      "cell_type": "code",
      "metadata": {
        "id": "aBvKq43X_BZN",
        "colab": {
          "base_uri": "https://localhost:8080/",
          "height": 284
        },
        "outputId": "d8ba0f02-20d6-403c-d30a-7c1c48d01bb3"
      },
      "source": [
        "plt.plot(z, leaky_relu(z, 0.05), \"b-\", linewidth = 2)\n",
        "plt.plot([-5, 5], [0, 0], 'k-')\n",
        "plt.plot([0, 0], [-0.5, 4.2], 'k-')\n",
        "plt.grid(True)\n",
        "props = dict(facecolor = 'black', shrink = 0.1)\n",
        "plt.annotate(\"Leak\", xytext = (-3.5, 0.5), xy = (-5, -0.2), arrowprops = props, fontsize = 14, ha = 'center')\n",
        "plt.title('Leak ReLU activation function')\n",
        "plt.axis([-5, 5, -0.5, 4])\n",
        "plt.show()"
      ],
      "execution_count": null,
      "outputs": [
        {
          "output_type": "display_data",
          "data": {
            "image/png": "[encoded data removed]",
            "text/plain": [
              "<Figure size 432x288 with 1 Axes>"
            ]
          },
          "metadata": {
            "tags": [],
            "needs_background": "light"
          }
        }
      ]
    },
    {
      "cell_type": "code",
      "metadata": {
        "id": "LVeVCDW7AAC4",
        "colab": {
          "base_uri": "https://localhost:8080/",
          "height": 272
        },
        "outputId": "edf8a2b0-590f-4927-c7b5-5b709f16aaae"
      },
      "source": [
        "#List of activation function\n",
        "\n",
        "[m for m in dir(keras.activations) if not m.startswith(\"_\")]"
      ],
      "execution_count": null,
      "outputs": [
        {
          "output_type": "execute_result",
          "data": {
            "text/plain": [
              "['deserialize',\n",
              " 'elu',\n",
              " 'exponential',\n",
              " 'get',\n",
              " 'hard_sigmoid',\n",
              " 'linear',\n",
              " 'relu',\n",
              " 'selu',\n",
              " 'serialize',\n",
              " 'sigmoid',\n",
              " 'softmax',\n",
              " 'softplus',\n",
              " 'softsign',\n",
              " 'swish',\n",
              " 'tanh']"
            ]
          },
          "metadata": {
            "tags": []
          },
          "execution_count": 10
        }
      ]
    },
    {
      "cell_type": "code",
      "metadata": {
        "id": "iT7LjIQ7AR0l",
        "colab": {
          "base_uri": "https://localhost:8080/",
          "height": 34
        },
        "outputId": "f6fcb96e-8a03-47a9-e9cf-64ee304ccf6f"
      },
      "source": [
        "[m for m in dir(keras.layers) if \"relu\" in m.lower()]"
      ],
      "execution_count": null,
      "outputs": [
        {
          "output_type": "execute_result",
          "data": {
            "text/plain": [
              "['LeakyReLU', 'PReLU', 'ReLU', 'ThresholdedReLU']"
            ]
          },
          "metadata": {
            "tags": []
          },
          "execution_count": 11
        }
      ]
    },
    {
      "cell_type": "markdown",
      "metadata": {
        "id": "Ev_xIjCMBBvi"
      },
      "source": [
        "Let's train a neural network on Fashion MNIST using the Leaky ReLU:\n"
      ]
    },
    {
      "cell_type": "code",
      "metadata": {
        "id": "qf7nnqPVBKN1",
        "colab": {
          "base_uri": "https://localhost:8080/",
          "height": 173
        },
        "outputId": "0fe45fcc-6415-414b-e5e9-031f67b8ec77"
      },
      "source": [
        "(X_train_full, y_train_full), (X_test, y_test) = keras.datasets.fashion_mnist.load_data()"
      ],
      "execution_count": null,
      "outputs": [
        {
          "output_type": "stream",
          "text": [
            "Downloading data from https://storage.googleapis.com/tensorflow/tf-keras-datasets/train-labels-idx1-ubyte.gz\n",
            "32768/29515 [=================================] - 0s 0us/step\n",
            "Downloading data from https://storage.googleapis.com/tensorflow/tf-keras-datasets/train-images-idx3-ubyte.gz\n",
            "26427392/26421880 [==============================] - 0s 0us/step\n",
            "Downloading data from https://storage.googleapis.com/tensorflow/tf-keras-datasets/t10k-labels-idx1-ubyte.gz\n",
            "8192/5148 [===============================================] - 0s 0us/step\n",
            "Downloading data from https://storage.googleapis.com/tensorflow/tf-keras-datasets/t10k-images-idx3-ubyte.gz\n",
            "4423680/4422102 [==============================] - 0s 0us/step\n"
          ],
          "name": "stdout"
        }
      ]
    },
    {
      "cell_type": "code",
      "metadata": {
        "id": "O6zHDRsPBWcW"
      },
      "source": [
        "X_train_full = X_train_full/255.0\n",
        "X_test = X_test/255.0\n",
        "X_valid, X_train = X_train_full[:5000], X_train_full[5000:]\n",
        "y_valid, y_train = y_train_full[:5000], y_train_full[5000:]"
      ],
      "execution_count": null,
      "outputs": []
    },
    {
      "cell_type": "code",
      "metadata": {
        "id": "K_D4kPauBw6C",
        "colab": {
          "base_uri": "https://localhost:8080/",
          "height": 119
        },
        "outputId": "44e0d539-ae0f-43ba-8baf-6f842cb78688"
      },
      "source": [
        "print(\"Size of training set: \", X_train.shape)\n",
        "print(\"Size of label training set: \", y_train.shape)\n",
        "print(\"Size of validation set: \", X_valid.shape)\n",
        "print(\"Size of label  validation set: \", y_valid.shape)\n",
        "print(\"Size of testing set: \", X_test.shape)\n",
        "print(\"Size of label testing set: \", y_test.shape)"
      ],
      "execution_count": null,
      "outputs": [
        {
          "output_type": "stream",
          "text": [
            "Size of training set:  (55000, 28, 28)\n",
            "Size of label training set:  (55000,)\n",
            "Size of validation set:  (5000, 28, 28)\n",
            "Size of label  validation set:  (5000,)\n",
            "Size of testing set:  (10000, 28, 28)\n",
            "Size of label testing set:  (10000,)\n"
          ],
          "name": "stdout"
        }
      ]
    },
    {
      "cell_type": "code",
      "metadata": {
        "id": "-7IHg9DcCfnI"
      },
      "source": [
        "tf.random.set_seed(42)\n",
        "np.random.seed(42)\n",
        "\n",
        "model = keras.models.Sequential([\n",
        "                                keras.layers.Flatten(input_shape = [28, 28]),\n",
        "                                keras.layers.Dense(300, kernel_initializer='he_normal'),\n",
        "                                keras.layers.LeakyReLU(),\n",
        "                                keras.layers.Dense(100, kernel_initializer='he_normal'),\n",
        "                                keras.layers.LeakyReLU(),\n",
        "                                keras.layers.Dense(10, activation='softmax')\n",
        "])"
      ],
      "execution_count": null,
      "outputs": []
    },
    {
      "cell_type": "code",
      "metadata": {
        "id": "plRc5oS1DQmm"
      },
      "source": [
        "model.compile(loss = 'sparse_categorical_crossentropy',\n",
        "              optimizer = keras.optimizers.SGD(lr=1e-3),\n",
        "              metrics = ['accuracy'])"
      ],
      "execution_count": null,
      "outputs": []
    },
    {
      "cell_type": "code",
      "metadata": {
        "id": "HXsH5ITTDgSr"
      },
      "source": [
        "history = model.fit(X_train, y_train, epochs = 10, \n",
        "                    validation_data = (X_valid, y_valid))"
      ],
      "execution_count": null,
      "outputs": []
    },
    {
      "cell_type": "code",
      "metadata": {
        "id": "9aIIF5YGD23X",
        "colab": {
          "base_uri": "https://localhost:8080/",
          "height": 34
        },
        "outputId": "75ff6e1e-667c-4fdf-f611-567a335d29ce"
      },
      "source": [
        "history.history.keys()"
      ],
      "execution_count": null,
      "outputs": [
        {
          "output_type": "execute_result",
          "data": {
            "text/plain": [
              "dict_keys(['loss', 'accuracy', 'val_loss', 'val_accuracy'])"
            ]
          },
          "metadata": {
            "tags": []
          },
          "execution_count": 18
        }
      ]
    },
    {
      "cell_type": "code",
      "metadata": {
        "id": "N-jLMdbNEWbr",
        "colab": {
          "base_uri": "https://localhost:8080/",
          "height": 34
        },
        "outputId": "e3a3748e-aa0c-4484-c991-c5f89b30e749"
      },
      "source": [
        "history.history['accuracy'][-1], history.history['val_accuracy'][-1]"
      ],
      "execution_count": null,
      "outputs": [
        {
          "output_type": "execute_result",
          "data": {
            "text/plain": [
              "(0.8320727348327637, 0.8393999934196472)"
            ]
          },
          "metadata": {
            "tags": []
          },
          "execution_count": 19
        }
      ]
    },
    {
      "cell_type": "markdown",
      "metadata": {
        "id": "sso8WeAqFGC-"
      },
      "source": [
        "Now, let's try PReLU:"
      ]
    },
    {
      "cell_type": "code",
      "metadata": {
        "id": "aj2knIB4FJLl"
      },
      "source": [
        "tf.random.set_seed(42)\n",
        "np.random.seed(42)"
      ],
      "execution_count": null,
      "outputs": []
    },
    {
      "cell_type": "code",
      "metadata": {
        "id": "OEvi0T6BFT0U"
      },
      "source": [
        "model = keras.models.Sequential([\n",
        "              keras.layers.Flatten(input_shape = [28, 28]),\n",
        "              keras.layers.Dense(300, kernel_initializer='he_normal'),\n",
        "              keras.layers.PReLU(),\n",
        "              keras.layers.Dense(100, kernel_initializer='he_normal'),\n",
        "              keras.layers.PReLU(),\n",
        "              keras.layers.Dense(10, activation='softmax')\n",
        "])"
      ],
      "execution_count": null,
      "outputs": []
    },
    {
      "cell_type": "code",
      "metadata": {
        "id": "JL-B6_dyF4DY"
      },
      "source": [
        "model.compile(loss = \"sparse_categorical_crossentropy\",\n",
        "              optimizer = keras.optimizers.SGD(learning_rate=1e-3),\n",
        "              metrics = ['accuracy'])"
      ],
      "execution_count": null,
      "outputs": []
    },
    {
      "cell_type": "code",
      "metadata": {
        "id": "teq_3RluGH79"
      },
      "source": [
        "history = model.fit(X_train, y_train, epochs = 10, \n",
        "                    validation_data = (X_valid, y_valid))"
      ],
      "execution_count": null,
      "outputs": []
    },
    {
      "cell_type": "code",
      "metadata": {
        "id": "IvYpuEU_GT3h",
        "colab": {
          "base_uri": "https://localhost:8080/",
          "height": 34
        },
        "outputId": "6901bc93-3fda-4ee9-b495-55a77b1721bc"
      },
      "source": [
        "history.history['accuracy'][-1], history.history['val_accuracy'][-1]"
      ],
      "execution_count": null,
      "outputs": [
        {
          "output_type": "execute_result",
          "data": {
            "text/plain": [
              "(0.8315818309783936, 0.8398000001907349)"
            ]
          },
          "metadata": {
            "tags": []
          },
          "execution_count": 24
        }
      ]
    },
    {
      "cell_type": "markdown",
      "metadata": {
        "id": "RkeEavxaGiaC"
      },
      "source": [
        "**ELU activation function:**\n",
        "\n",
        "The ELU activation function looks a lot like the ReLU function, with a few major\n",
        "differences:\n",
        "* It takes on negative values when z < 0, which allows the unit to have an average\n",
        "output closer to 0 and helps alleviate the vanishing gradients problem. The\n",
        "hyperparameter $\\alpha$ defines the value that the ELU function approaches when z is a\n",
        "large negative number. It is usually set to 1, but you can tweak it like any other\n",
        "hyperparameter.\n",
        "* It has a nonzero gradient for z < 0, which avoids the dead neurons problem.\n",
        "* If $\\alpha$ is equal to 1 then the function is smooth everywhere, including around z = 0,\n",
        "which helps speed up Gradient Descent since it does not bounce as much to the\n",
        "left and right of z = 0."
      ]
    },
    {
      "cell_type": "code",
      "metadata": {
        "id": "10qgxV5fG-aj"
      },
      "source": [
        "def elu(z, alpha = 1):\n",
        "  \"\"\"\n",
        "  elu(z) = alpha*(exp(z) - 1) when z < 0\n",
        "  elu(z) = z when z >= 0\n",
        "  \"\"\"\n",
        "  return np.where(z < 0, alpha*(np.exp(z) - 1), z)"
      ],
      "execution_count": null,
      "outputs": []
    },
    {
      "cell_type": "code",
      "metadata": {
        "id": "ATwJRM1cHeRz",
        "colab": {
          "base_uri": "https://localhost:8080/",
          "height": 287
        },
        "outputId": "f3c9f1b5-3755-493b-ce6b-59cf17759517"
      },
      "source": [
        "plt.plot(z, elu(z), \"b-\", linewidth = 2)\n",
        "plt.plot([-5, 5], [0, 0], \"k-\")\n",
        "plt.plot([-5, 5], [-1, -1], \"k--\")\n",
        "plt.plot([0, 0], [-2.2, 5], 'k-')\n",
        "plt.grid('True')\n",
        "plt.title(r\"ELU activation function ($\\alpha = 1$)\", fontsize = 14)\n",
        "plt.axis([-5, 5, -2.2, 3.2])\n",
        "plt.show()"
      ],
      "execution_count": null,
      "outputs": [
        {
          "output_type": "display_data",
          "data": {
            "image/png": "[encoded data removed]",
            "text/plain": [
              "<Figure size 432x288 with 1 Axes>"
            ]
          },
          "metadata": {
            "tags": [],
            "needs_background": "light"
          }
        }
      ]
    },
    {
      "cell_type": "code",
      "metadata": {
        "id": "VyUjLIcQIXl3"
      },
      "source": [
        "tf.random.set_seed(42)\n",
        "np.random.seed(42)"
      ],
      "execution_count": null,
      "outputs": []
    },
    {
      "cell_type": "code",
      "metadata": {
        "id": "RidaWoy_IcOC"
      },
      "source": [
        "model = keras.models.Sequential([\n",
        "              keras.layers.Flatten(input_shape = [28, 28]),\n",
        "              keras.layers.Dense(300, activation = 'elu', kernel_initializer='he_normal'),\n",
        "              keras.layers.Dense(100, activation = 'elu', kernel_initializer='he_normal'),\n",
        "              keras.layers.Dense(10, activation='softmax')\n",
        "])"
      ],
      "execution_count": null,
      "outputs": []
    },
    {
      "cell_type": "code",
      "metadata": {
        "id": "_8jO28OPIwIk"
      },
      "source": [
        "model.compile(loss = \"sparse_categorical_crossentropy\",\n",
        "              optimizer = keras.optimizers.SGD(learning_rate=1e-3),\n",
        "              metrics = ['accuracy'])"
      ],
      "execution_count": null,
      "outputs": []
    },
    {
      "cell_type": "code",
      "metadata": {
        "id": "5xc7OVPSI-p4",
        "colab": {
          "base_uri": "https://localhost:8080/",
          "height": 377
        },
        "outputId": "3f820cb6-1f23-4600-f2e3-126bb240c6c9"
      },
      "source": [
        "history = model.fit(X_train, y_train, epochs = 10, \n",
        "                    validation_data = (X_valid, y_valid))"
      ],
      "execution_count": null,
      "outputs": [
        {
          "output_type": "stream",
          "text": [
            "Epoch 1/10\n",
            "1719/1719 [==============================] - 5s 3ms/step - loss: 1.1200 - accuracy: 0.6462 - val_loss: 0.7926 - val_accuracy: 0.7376\n",
            "Epoch 2/10\n",
            "1719/1719 [==============================] - 5s 3ms/step - loss: 0.7228 - accuracy: 0.7570 - val_loss: 0.6567 - val_accuracy: 0.7822\n",
            "Epoch 3/10\n",
            "1719/1719 [==============================] - 5s 3ms/step - loss: 0.6316 - accuracy: 0.7878 - val_loss: 0.5992 - val_accuracy: 0.8022\n",
            "Epoch 4/10\n",
            "1719/1719 [==============================] - 5s 3ms/step - loss: 0.5824 - accuracy: 0.8044 - val_loss: 0.5553 - val_accuracy: 0.8216\n",
            "Epoch 5/10\n",
            "1719/1719 [==============================] - 5s 3ms/step - loss: 0.5508 - accuracy: 0.8149 - val_loss: 0.5298 - val_accuracy: 0.8268\n",
            "Epoch 6/10\n",
            "1719/1719 [==============================] - 5s 3ms/step - loss: 0.5281 - accuracy: 0.8201 - val_loss: 0.5104 - val_accuracy: 0.8294\n",
            "Epoch 7/10\n",
            "1719/1719 [==============================] - 5s 3ms/step - loss: 0.5108 - accuracy: 0.8253 - val_loss: 0.4949 - val_accuracy: 0.8344\n",
            "Epoch 8/10\n",
            "1719/1719 [==============================] - 5s 3ms/step - loss: 0.4975 - accuracy: 0.8300 - val_loss: 0.4878 - val_accuracy: 0.8340\n",
            "Epoch 9/10\n",
            "1719/1719 [==============================] - 5s 3ms/step - loss: 0.4867 - accuracy: 0.8315 - val_loss: 0.4734 - val_accuracy: 0.8406\n",
            "Epoch 10/10\n",
            "1719/1719 [==============================] - 5s 3ms/step - loss: 0.4771 - accuracy: 0.8351 - val_loss: 0.4670 - val_accuracy: 0.8428\n"
          ],
          "name": "stdout"
        }
      ]
    },
    {
      "cell_type": "code",
      "metadata": {
        "id": "UzrZONOdJI0u",
        "colab": {
          "base_uri": "https://localhost:8080/",
          "height": 34
        },
        "outputId": "78376543-d760-4c32-a6f4-deb28b0076b9"
      },
      "source": [
        "history.history['accuracy'][-1], history.history['val_accuracy'][-1]"
      ],
      "execution_count": null,
      "outputs": [
        {
          "output_type": "execute_result",
          "data": {
            "text/plain": [
              "(0.8351454734802246, 0.8428000211715698)"
            ]
          },
          "metadata": {
            "tags": []
          },
          "execution_count": 31
        }
      ]
    },
    {
      "cell_type": "markdown",
      "metadata": {
        "id": "fCa834-6KJzq"
      },
      "source": [
        "**SELU:**\n",
        "\n",
        "Scaled ELU (SELU) is a scaled variant of the ELU activation\n",
        "function. The authors showed that if you build a neural network composed exclusively\n",
        "of a stack of dense layers, and if all hidden layers use the SELU activation function,\n",
        "then the network will self-normalize: the output of each layer will tend to\n",
        "preserve a mean of 0 and standard deviation of 1 during training, which solves the\n",
        "vanishing/exploding gradients problem. As a result, the SELU activation function\n",
        "often significantly outperforms other activation functions for such neural nets (especially\n",
        "deep ones). There are, however, a few conditions for self-normalization to happen:\n",
        "* The input features must be standardized (mean 0 and standard deviation 1).\n",
        "* Every hidden layer’s weights must be initialized with LeCun normal initialization.\n",
        "In Keras, this means setting kernel_initializer=\"lecun_normal\".\n",
        "* Unfortunately, the self-normalizing property of the SELU activation function is easily broken: you cannot use ℓ1 or ℓ2 regularization, regular dropout, max-norm, skip connections or other non-sequential topologies (so recurrent neural networks won't self-normalize). However, in practice it works quite well with sequential CNNs. If you break self-normalization, SELU will not necessarily outperform other activation functions."
      ]
    },
    {
      "cell_type": "code",
      "metadata": {
        "id": "_mK-x_0oLCij"
      },
      "source": [
        "from scipy.special import erfc\n",
        "\n",
        "#alpha and scale to self normalize with mean 0 and standard deviation 1\n",
        "\n",
        "alpha_0_1 = -np.sqrt(2/np.pi)/(erfc(1/np.sqrt(2)) * np.exp(1/2) - 1)\n",
        "scale_0_1 = (1 - erfc(1 / np.sqrt(2)) * np.sqrt(np.e)) * np.sqrt(2 * np.pi) * (2 * erfc(np.sqrt(2))*np.e**2 + np.pi*erfc(1/np.sqrt(2))**2*np.e - 2*(2+np.pi)*erfc(1/np.sqrt(2))*np.sqrt(np.e)+np.pi+2)**(-1/2)"
      ],
      "execution_count": null,
      "outputs": []
    },
    {
      "cell_type": "code",
      "metadata": {
        "id": "3hT8rDQfMYa1"
      },
      "source": [
        "def selu(z, scale = scale_0_1, alpha = alpha_0_1):\n",
        "  return scale * elu(z, alpha)"
      ],
      "execution_count": null,
      "outputs": []
    },
    {
      "cell_type": "code",
      "metadata": {
        "id": "gk-e7XKsMnCw",
        "colab": {
          "base_uri": "https://localhost:8080/",
          "height": 285
        },
        "outputId": "9fbf96c8-eaae-4263-9b92-72a6f25b6684"
      },
      "source": [
        "plt.plot(z, selu(z), \"b-\", linewidth = 2)\n",
        "plt.plot([-5, 5], [0, 0], 'k-')\n",
        "plt.plot([-5, 5], [-1.758, -1.758], 'k--')\n",
        "plt.plot([0, 0], [-2.2, 3.2], 'k-')\n",
        "plt.grid(True)\n",
        "plt.title(\"SELU activation function\", fontsize = 14)\n",
        "plt.axis([-5, 5, -2.2, 3.2])\n",
        "plt.show()"
      ],
      "execution_count": null,
      "outputs": [
        {
          "output_type": "display_data",
          "data": {
            "image/png": "[encoded data removed]",
            "text/plain": [
              "<Figure size 432x288 with 1 Axes>"
            ]
          },
          "metadata": {
            "tags": [],
            "needs_background": "light"
          }
        }
      ]
    },
    {
      "cell_type": "markdown",
      "metadata": {
        "id": "a4dovFm6NXYM"
      },
      "source": [
        "By default, the SELU hyperparameters (scale and alpha) are tuned in such a way that the mean output of each neuron remains close to 0, and the standard deviation remains close to 1 (assuming the inputs are standardized with mean 0 and standard deviation 1 too). Using this activation function, even a 1,000 layer deep neural network preserves roughly mean 0 and standard deviation 1 across all layers, avoiding the exploding/vanishing gradients problem:"
      ]
    },
    {
      "cell_type": "code",
      "metadata": {
        "id": "_dWtmQovNY4i",
        "colab": {
          "base_uri": "https://localhost:8080/",
          "height": 187
        },
        "outputId": "29b91e7d-9332-4538-a12d-37488dbb8249"
      },
      "source": [
        "np.random.seed(42)\n",
        "Z = np.random.normal(size = (500, 100)) #Standardized inputs\n",
        "for layer in range(1000):\n",
        "  W = np.random.normal(size = (100, 100), scale = np.sqrt(1/100)) #LeCun initialization\n",
        "  Z = selu(np.dot(Z, W))\n",
        "  means = np.mean(Z, axis = 0).mean()\n",
        "  stds = np.std(Z, axis = 0).mean()\n",
        "  if layer % 100 == 0:\n",
        "    print(\"Layer {}: mean {:.2f}, std deviation {:.2f}\".format(layer, means, stds))"
      ],
      "execution_count": null,
      "outputs": [
        {
          "output_type": "stream",
          "text": [
            "Layer 0: mean -0.00, std deviation 1.00\n",
            "Layer 100: mean 0.02, std deviation 0.96\n",
            "Layer 200: mean 0.01, std deviation 0.90\n",
            "Layer 300: mean -0.02, std deviation 0.92\n",
            "Layer 400: mean 0.05, std deviation 0.89\n",
            "Layer 500: mean 0.01, std deviation 0.93\n",
            "Layer 600: mean 0.02, std deviation 0.92\n",
            "Layer 700: mean -0.02, std deviation 0.90\n",
            "Layer 800: mean 0.05, std deviation 0.83\n",
            "Layer 900: mean 0.02, std deviation 1.00\n"
          ],
          "name": "stdout"
        }
      ]
    },
    {
      "cell_type": "code",
      "metadata": {
        "id": "OXGamjYwOMPh",
        "colab": {
          "base_uri": "https://localhost:8080/",
          "height": 34
        },
        "outputId": "27cd786f-d60d-44de-9e45-0a764f696dcc"
      },
      "source": [
        "#Using SELU is easy\n",
        "\n",
        "keras.layers.Dense(10, activation='selu', kernel_initializer='lecun_normal')"
      ],
      "execution_count": null,
      "outputs": [
        {
          "output_type": "execute_result",
          "data": {
            "text/plain": [
              "<tensorflow.python.keras.layers.core.Dense at 0x7f835375da90>"
            ]
          },
          "metadata": {
            "tags": []
          },
          "execution_count": 36
        }
      ]
    },
    {
      "cell_type": "markdown",
      "metadata": {
        "id": "FDdw70jmOXFh"
      },
      "source": [
        "Let's create a neural net for Fashion MNIST with 100 hidden layers using the SELU activation function:"
      ]
    },
    {
      "cell_type": "code",
      "metadata": {
        "id": "Xw8X2tmBOg4H"
      },
      "source": [
        "np.random.seed(42)\n",
        "tf.random.set_seed(42)"
      ],
      "execution_count": null,
      "outputs": []
    },
    {
      "cell_type": "code",
      "metadata": {
        "id": "4ndpRgemOzI6"
      },
      "source": [
        "model = keras.models.Sequential()\n",
        "model.add(keras.layers.Flatten(input_shape = [28, 28]))\n",
        "model.add(keras.layers.Dense(300, activation='selu', kernel_initializer='lecun_normal'))\n",
        "for layer in range(99):\n",
        "  model.add(keras.layers.Dense(100, activation = 'selu', kernel_initializer='lecun_normal'))\n",
        "model.add(keras.layers.Dense(10, activation = 'softmax'))"
      ],
      "execution_count": null,
      "outputs": []
    },
    {
      "cell_type": "code",
      "metadata": {
        "id": "u1KkM4zBPXrq"
      },
      "source": [
        "model.compile(loss = \"sparse_categorical_crossentropy\",\n",
        "              optimizer = keras.optimizers.SGD(learning_rate=1e-3),\n",
        "              metrics = ['accuracy'])"
      ],
      "execution_count": null,
      "outputs": []
    },
    {
      "cell_type": "markdown",
      "metadata": {
        "id": "iex51LokPpD4"
      },
      "source": [
        "Now let's train it. Do not forget to scale the inputs to mean 0 and standard deviation 1:"
      ]
    },
    {
      "cell_type": "code",
      "metadata": {
        "id": "KvlmIAH9PwWF"
      },
      "source": [
        "pixel_means = X_train.mean(axis = 0, keepdims = True)\n",
        "pixel_stds = X_train.std(axis = 0, keepdims=True)\n",
        "X_train_scaled = (X_train - pixel_means)/pixel_stds\n",
        "X_valid_scaled = (X_valid - pixel_means)/pixel_stds\n",
        "X_test_scaled = (X_test - pixel_means)/pixel_stds"
      ],
      "execution_count": null,
      "outputs": []
    },
    {
      "cell_type": "code",
      "metadata": {
        "id": "nx3lnOPkQQW1",
        "colab": {
          "base_uri": "https://localhost:8080/",
          "height": 207
        },
        "outputId": "be8e6c4d-bf83-4912-883b-64f7ba0def52"
      },
      "source": [
        "history = model.fit(X_train_scaled, y_train, epochs = 5, \n",
        "                    validation_data = (X_valid_scaled, y_valid))"
      ],
      "execution_count": null,
      "outputs": [
        {
          "output_type": "stream",
          "text": [
            "Epoch 1/5\n",
            "1719/1719 [==============================] - 26s 15ms/step - loss: 1.1442 - accuracy: 0.5659 - val_loss: 0.7490 - val_accuracy: 0.7396\n",
            "Epoch 2/5\n",
            "1719/1719 [==============================] - 25s 14ms/step - loss: 0.7052 - accuracy: 0.7490 - val_loss: 0.6181 - val_accuracy: 0.7786\n",
            "Epoch 3/5\n",
            "1719/1719 [==============================] - 25s 14ms/step - loss: 0.6105 - accuracy: 0.7781 - val_loss: 0.5945 - val_accuracy: 0.7906\n",
            "Epoch 4/5\n",
            "1719/1719 [==============================] - 25s 15ms/step - loss: 0.5915 - accuracy: 0.7897 - val_loss: 0.6080 - val_accuracy: 0.7866\n",
            "Epoch 5/5\n",
            "1719/1719 [==============================] - 25s 14ms/step - loss: 0.5307 - accuracy: 0.8133 - val_loss: 0.4877 - val_accuracy: 0.8248\n"
          ],
          "name": "stdout"
        }
      ]
    },
    {
      "cell_type": "markdown",
      "metadata": {
        "id": "CeWqDmNtRPne"
      },
      "source": [
        "Now look at what happens if we try to use the ReLU activation function instead:"
      ]
    },
    {
      "cell_type": "code",
      "metadata": {
        "id": "ilSfKymRRWDB"
      },
      "source": [
        "np.random.seed(42)\n",
        "tf.random.set_seed(42)"
      ],
      "execution_count": null,
      "outputs": []
    },
    {
      "cell_type": "code",
      "metadata": {
        "id": "v60aG7OiRZ3s"
      },
      "source": [
        "model = keras.models.Sequential()\n",
        "model.add(keras.layers.Flatten(input_shape = [28, 28]))\n",
        "model.add(keras.layers.Dense(300, activation='relu', kernel_initializer='he_normal'))\n",
        "for layer in range(99):\n",
        "  model.add(keras.layers.Dense(100, activation = 'relu', kernel_initializer='he_normal'))\n",
        "model.add(keras.layers.Dense(10, activation = 'softmax'))"
      ],
      "execution_count": null,
      "outputs": []
    },
    {
      "cell_type": "code",
      "metadata": {
        "id": "_xjapKhOR4ta"
      },
      "source": [
        "model.compile(loss = 'sparse_categorical_crossentropy',\n",
        "              optimizer = keras.optimizers.SGD(learning_rate=1e-3),\n",
        "              metrics = ['accuracy'])"
      ],
      "execution_count": null,
      "outputs": []
    },
    {
      "cell_type": "code",
      "metadata": {
        "id": "oNLd2g4BSIhe",
        "colab": {
          "base_uri": "https://localhost:8080/",
          "height": 207
        },
        "outputId": "36be734a-94b2-4c1b-bc6c-8ba15cc90181"
      },
      "source": [
        "history = model.fit(X_train_scaled, y_train, epochs = 5,\n",
        "                    validation_data = (X_valid_scaled, y_valid))"
      ],
      "execution_count": null,
      "outputs": [
        {
          "output_type": "stream",
          "text": [
            "Epoch 1/5\n",
            "1719/1719 [==============================] - 22s 13ms/step - loss: 1.7959 - accuracy: 0.2655 - val_loss: 1.7181 - val_accuracy: 0.3566\n",
            "Epoch 2/5\n",
            "1719/1719 [==============================] - 22s 13ms/step - loss: 1.1503 - accuracy: 0.5168 - val_loss: 0.9672 - val_accuracy: 0.5622\n",
            "Epoch 3/5\n",
            "1719/1719 [==============================] - 22s 13ms/step - loss: 1.0513 - accuracy: 0.5748 - val_loss: 0.9552 - val_accuracy: 0.6096\n",
            "Epoch 4/5\n",
            "1719/1719 [==============================] - 23s 13ms/step - loss: 0.8668 - accuracy: 0.6635 - val_loss: 0.7753 - val_accuracy: 0.7068\n",
            "Epoch 5/5\n",
            "1719/1719 [==============================] - 23s 13ms/step - loss: 0.7422 - accuracy: 0.7208 - val_loss: 0.6852 - val_accuracy: 0.7444\n"
          ],
          "name": "stdout"
        }
      ]
    },
    {
      "cell_type": "markdown",
      "metadata": {
        "id": "7-KuPQhySWFV"
      },
      "source": [
        "Not great, we suffered from the vanishing/exploding gradients problem"
      ]
    },
    {
      "cell_type": "markdown",
      "metadata": {
        "id": "XHLLhyxpTDL3"
      },
      "source": [
        "**Batch Normalization**\n",
        "\n",
        "Although using He initialization along with ELU (or any variant of ReLU) can significantly\n",
        "reduce the danger of the vanishing/exploding gradients problems at the begin\n",
        "ning\n",
        "of training, it doesn’t guarantee that they won’t come back during training.\n",
        "\n",
        "\n",
        "The technique consists of\n",
        "adding an operation in the model just before or after the activation function of each\n",
        "hidden layer. This operation simply zero-centers and normalizes each input, then\n",
        "scales and shifts the result using two new parameter vectors per layer: one for scaling,\n",
        "the other for shifting. In other words, the operation lets the model learn the optimal\n",
        "scale and mean of each of the layer’s inputs. In many cases, if you add a BN layer as\n",
        "the very first layer of your neural network, you do not need to standardize your train\n",
        "ing\n",
        "set (e.g., using a StandardScaler); the BN layer will do it for you (well, approximately, since it only looks at one batch at a time, and it can also rescale and shift each input feature).\n",
        "In order to zero-center and normalize the inputs, the algorithm needs to estimate each input’s mean and standard deviation. It does so by evaluating the mean and standard deviation of the input over the current mini-batch (hence the name “Batch Normalization”).\n"
      ]
    },
    {
      "cell_type": "markdown",
      "metadata": {
        "id": "EiJfkkzJUEmZ"
      },
      "source": [
        "Implementing Batch Normalization is simple and\n",
        "intuitive. Just add a BatchNormalization layer before or after each hidden layer’s\n",
        "activation function, and optionally add a BN layer as well as the first layer in your\n",
        "model. For example, this model applies BN after every hidden layer and as the first\n",
        "layer in the model (after flattening the input images):"
      ]
    },
    {
      "cell_type": "code",
      "metadata": {
        "id": "d0SqadbyUTRk"
      },
      "source": [
        "model = keras.models.Sequential([\n",
        "        keras.layers.Flatten(input_shape = [28, 28]),\n",
        "        keras.layers.BatchNormalization(),\n",
        "        keras.layers.Dense(300, activation='elu', kernel_initializer = 'he_normal'),\n",
        "        keras.layers.BatchNormalization(),\n",
        "        keras.layers.Dense(100, activation='elu', kernel_initializer='he_normal'),\n",
        "        keras.layers.BatchNormalization(),\n",
        "        keras.layers.Dense(10, activation='softmax')\n",
        "])"
      ],
      "execution_count": null,
      "outputs": []
    },
    {
      "cell_type": "code",
      "metadata": {
        "id": "AOcngsnuVATc",
        "colab": {
          "base_uri": "https://localhost:8080/",
          "height": 391
        },
        "outputId": "19967115-f155-4d5e-b21d-6c5b888dc0c5"
      },
      "source": [
        "model.summary()"
      ],
      "execution_count": null,
      "outputs": [
        {
          "output_type": "stream",
          "text": [
            "Model: \"sequential_5\"\n",
            "_________________________________________________________________\n",
            "Layer (type)                 Output Shape              Param #   \n",
            "=================================================================\n",
            "flatten_5 (Flatten)          (None, 784)               0         \n",
            "_________________________________________________________________\n",
            "batch_normalization (BatchNo (None, 784)               3136      \n",
            "_________________________________________________________________\n",
            "dense_214 (Dense)            (None, 300)               235500    \n",
            "_________________________________________________________________\n",
            "batch_normalization_1 (Batch (None, 300)               1200      \n",
            "_________________________________________________________________\n",
            "dense_215 (Dense)            (None, 100)               30100     \n",
            "_________________________________________________________________\n",
            "batch_normalization_2 (Batch (None, 100)               400       \n",
            "_________________________________________________________________\n",
            "dense_216 (Dense)            (None, 10)                1010      \n",
            "=================================================================\n",
            "Total params: 271,346\n",
            "Trainable params: 268,978\n",
            "Non-trainable params: 2,368\n",
            "_________________________________________________________________\n"
          ],
          "name": "stdout"
        }
      ]
    },
    {
      "cell_type": "markdown",
      "metadata": {
        "id": "wC9-30IJn3OX"
      },
      "source": [
        "As you can see, each BN layer adds four parameters per input: γ, β, μ, and σ (for\n",
        "example, the first BN layer adds 3,136 parameters, which is 4 × 784). The last two\n",
        "parameters, μ and σ, are the moving averages; they are not affected by backpropagation,\n",
        "so Keras calls them “non-trainable” (if you count the total number of BN\n",
        "parameters, 3,136 + 1,200 + 400, and divide by 2, you get 2,368, which is the total\n",
        "number of non-trainable parameters in this model)."
      ]
    },
    {
      "cell_type": "code",
      "metadata": {
        "id": "MatiVQggoBAV",
        "colab": {
          "base_uri": "https://localhost:8080/",
          "height": 85
        },
        "outputId": "4e20933d-1d4e-4986-971a-1ecc7aaab5bd"
      },
      "source": [
        "bn1 = model.layers[1]\n",
        "[(var.name, var.trainable) for var in bn1.variables]"
      ],
      "execution_count": null,
      "outputs": [
        {
          "output_type": "execute_result",
          "data": {
            "text/plain": [
              "[('batch_normalization/gamma:0', True),\n",
              " ('batch_normalization/beta:0', True),\n",
              " ('batch_normalization/moving_mean:0', False),\n",
              " ('batch_normalization/moving_variance:0', False)]"
            ]
          },
          "metadata": {
            "tags": []
          },
          "execution_count": 48
        }
      ]
    },
    {
      "cell_type": "code",
      "metadata": {
        "id": "wnxsYbf-oP5y",
        "colab": {
          "base_uri": "https://localhost:8080/",
          "height": 51
        },
        "outputId": "91a19521-4df9-40d1-e240-2a4da186d9d4"
      },
      "source": [
        "bn1.updates"
      ],
      "execution_count": null,
      "outputs": [
        {
          "output_type": "execute_result",
          "data": {
            "text/plain": [
              "[<tf.Operation 'cond/Identity' type=Identity>,\n",
              " <tf.Operation 'cond_1/Identity' type=Identity>]"
            ]
          },
          "metadata": {
            "tags": []
          },
          "execution_count": 49
        }
      ]
    },
    {
      "cell_type": "code",
      "metadata": {
        "id": "qnhI23XcohHe"
      },
      "source": [
        "model.compile(loss = \"sparse_categorical_crossentropy\",\n",
        "              optimizer = keras.optimizers.SGD(lr = 1e-3),\n",
        "              metrics = ['accuracy'])"
      ],
      "execution_count": null,
      "outputs": []
    },
    {
      "cell_type": "code",
      "metadata": {
        "id": "Fl85MHe3owpe",
        "colab": {
          "base_uri": "https://localhost:8080/",
          "height": 377
        },
        "outputId": "0a3a8c09-ec8d-496f-f444-488a9668ebda"
      },
      "source": [
        "history = model.fit(X_train, y_train, epochs = 10,\n",
        "                    validation_data = (X_valid, y_valid))"
      ],
      "execution_count": null,
      "outputs": [
        {
          "output_type": "stream",
          "text": [
            "Epoch 1/10\n",
            "1719/1719 [==============================] - 8s 4ms/step - loss: 0.9021 - accuracy: 0.6946 - val_loss: 0.6000 - val_accuracy: 0.8004\n",
            "Epoch 2/10\n",
            "1719/1719 [==============================] - 7s 4ms/step - loss: 0.6103 - accuracy: 0.7904 - val_loss: 0.5162 - val_accuracy: 0.8240\n",
            "Epoch 3/10\n",
            "1719/1719 [==============================] - 8s 4ms/step - loss: 0.5540 - accuracy: 0.8078 - val_loss: 0.4786 - val_accuracy: 0.8354\n",
            "Epoch 4/10\n",
            "1719/1719 [==============================] - 8s 4ms/step - loss: 0.5171 - accuracy: 0.8212 - val_loss: 0.4543 - val_accuracy: 0.8454\n",
            "Epoch 5/10\n",
            "1719/1719 [==============================] - 8s 4ms/step - loss: 0.4936 - accuracy: 0.8275 - val_loss: 0.4383 - val_accuracy: 0.8492\n",
            "Epoch 6/10\n",
            "1719/1719 [==============================] - 7s 4ms/step - loss: 0.4771 - accuracy: 0.8339 - val_loss: 0.4259 - val_accuracy: 0.8520\n",
            "Epoch 7/10\n",
            "1719/1719 [==============================] - 7s 4ms/step - loss: 0.4641 - accuracy: 0.8384 - val_loss: 0.4140 - val_accuracy: 0.8558\n",
            "Epoch 8/10\n",
            "1719/1719 [==============================] - 7s 4ms/step - loss: 0.4549 - accuracy: 0.8409 - val_loss: 0.4083 - val_accuracy: 0.8566\n",
            "Epoch 9/10\n",
            "1719/1719 [==============================] - 8s 4ms/step - loss: 0.4448 - accuracy: 0.8436 - val_loss: 0.4013 - val_accuracy: 0.8590\n",
            "Epoch 10/10\n",
            "1719/1719 [==============================] - 7s 4ms/step - loss: 0.4360 - accuracy: 0.8451 - val_loss: 0.3951 - val_accuracy: 0.8594\n"
          ],
          "name": "stdout"
        }
      ]
    },
    {
      "cell_type": "markdown",
      "metadata": {
        "id": "1LAow_l7e0T8"
      },
      "source": [
        "Sometimes applying BN before the activation function works better (there's a debate on this topic). Moreover, the layer before a BatchNormalization layer does not need to have bias terms, since the BatchNormalization layer some as well, it would be a waste of parameters, so you can set use_bias=False when creating those layers:"
      ]
    },
    {
      "cell_type": "code",
      "metadata": {
        "id": "x3eGYi3ie9tp"
      },
      "source": [
        "model = keras.models.Sequential([\n",
        "        keras.layers.Flatten(input_shape = [28,28]),\n",
        "        keras.layers.BatchNormalization(),\n",
        "        keras.layers.Dense(300, use_bias = False),\n",
        "        keras.layers.BatchNormalization(),\n",
        "        keras.layers.Activation('relu'),\n",
        "        keras.layers.Dense(100, use_bias = False),\n",
        "        keras.layers.BatchNormalization(),\n",
        "        keras.layers.Activation('relu'),\n",
        "        keras.layers.Dense(10, activation = 'softmax')\n",
        "])"
      ],
      "execution_count": null,
      "outputs": []
    },
    {
      "cell_type": "code",
      "metadata": {
        "id": "0RSwq70dftWd"
      },
      "source": [
        "model.compile(loss = \"sparse_categorical_crossentropy\",\n",
        "              optimizer = keras.optimizers.SGD(learning_rate = 1e-3),\n",
        "              metrics = ['accuracy'])"
      ],
      "execution_count": null,
      "outputs": []
    },
    {
      "cell_type": "code",
      "metadata": {
        "id": "qf05Vn7of6TI",
        "colab": {
          "base_uri": "https://localhost:8080/",
          "height": 377
        },
        "outputId": "9ca7cbfe-0e1a-4143-d3b1-5a984533f7b9"
      },
      "source": [
        "history = model.fit(X_train, y_train, epochs = 10,\n",
        "                    validation_data = (X_valid, y_valid))"
      ],
      "execution_count": null,
      "outputs": [
        {
          "output_type": "stream",
          "text": [
            "Epoch 1/10\n",
            "1719/1719 [==============================] - 7s 4ms/step - loss: 1.0317 - accuracy: 0.6757 - val_loss: 0.6765 - val_accuracy: 0.7812\n",
            "Epoch 2/10\n",
            "1719/1719 [==============================] - 7s 4ms/step - loss: 0.6790 - accuracy: 0.7793 - val_loss: 0.5560 - val_accuracy: 0.8180\n",
            "Epoch 3/10\n",
            "1719/1719 [==============================] - 7s 4ms/step - loss: 0.5960 - accuracy: 0.8037 - val_loss: 0.4999 - val_accuracy: 0.8362\n",
            "Epoch 4/10\n",
            "1719/1719 [==============================] - 7s 4ms/step - loss: 0.5447 - accuracy: 0.8192 - val_loss: 0.4657 - val_accuracy: 0.8448\n",
            "Epoch 5/10\n",
            "1719/1719 [==============================] - 7s 4ms/step - loss: 0.5109 - accuracy: 0.8279 - val_loss: 0.4424 - val_accuracy: 0.8532\n",
            "Epoch 6/10\n",
            "1719/1719 [==============================] - 7s 4ms/step - loss: 0.4898 - accuracy: 0.8337 - val_loss: 0.4252 - val_accuracy: 0.8546\n",
            "Epoch 7/10\n",
            "1719/1719 [==============================] - 7s 4ms/step - loss: 0.4712 - accuracy: 0.8397 - val_loss: 0.4119 - val_accuracy: 0.8566\n",
            "Epoch 8/10\n",
            "1719/1719 [==============================] - 7s 4ms/step - loss: 0.4560 - accuracy: 0.8439 - val_loss: 0.4023 - val_accuracy: 0.8608\n",
            "Epoch 9/10\n",
            "1719/1719 [==============================] - 7s 4ms/step - loss: 0.4441 - accuracy: 0.8475 - val_loss: 0.3931 - val_accuracy: 0.8638\n",
            "Epoch 10/10\n",
            "1719/1719 [==============================] - 8s 5ms/step - loss: 0.4333 - accuracy: 0.8504 - val_loss: 0.3863 - val_accuracy: 0.8660\n"
          ],
          "name": "stdout"
        }
      ]
    },
    {
      "cell_type": "markdown",
      "metadata": {
        "id": "mbAy9KwngV3m"
      },
      "source": [
        "# Gradient Clipping\n",
        "\n",
        "Another popular technique to mitigate the exploding gradients problem is to clip the gradients during backpropagation so that they never exceed some threshold. This is\n",
        "called Gradient Clipping. This technique is most often used in recurrent neural networks, as Batch Normalization is tricky to use in RNNs.\n",
        "For other types of networks, BN is usually sufficient."
      ]
    },
    {
      "cell_type": "code",
      "metadata": {
        "id": "xvhvGmmAgnNu"
      },
      "source": [
        "optimizer = keras.optimizers.SGD(clipvalue = 1.0)"
      ],
      "execution_count": null,
      "outputs": []
    },
    {
      "cell_type": "code",
      "metadata": {
        "id": "gGN8ZMuDg8W6"
      },
      "source": [
        "optimizer = keras.optimizers.SGD(clipnorm = 1.0)"
      ],
      "execution_count": null,
      "outputs": []
    },
    {
      "cell_type": "markdown",
      "metadata": {
        "id": "Jrue398VhIuR"
      },
      "source": [
        "# Reusing Pretrained Layers\n",
        "\n",
        "**Reusing a Keras model**\n",
        "\n",
        "Let's split the fashion MNIST training set in two:\n",
        "\n",
        "* X_train_A: all images of all items except for sandals and shirts (classes 5 and 6).\n",
        "* X_train_B: a much smaller training set of just the first 200 images of sandals or shirts.\n",
        "\n",
        "The validation set and the test set are also split this way, but without restricting the number of images.\n",
        "\n",
        "We will train a model on set A (classification task with 8 classes), and try to reuse it to tackle set B (binary classification). We hope to transfer a little bit of knowledge from task A to task B, since classes in set A (sneakers, ankle boots, coats, t-shirts, etc.) are somewhat similar to classes in set B (sandals and shirts). However, since we are using Dense layers, only patterns that occur at the same location can be reused (in contrast, convolutional layers will transfer much better, since learned patterns can be detected anywhere on the image)."
      ]
    },
    {
      "cell_type": "code",
      "metadata": {
        "id": "TQgiYt7Hhnwj"
      },
      "source": [
        "def split_dataset(X, y):\n",
        "  y_5_or_6 = (y == 5) | (y == 6) #Sandals or shirts\n",
        "  y_A = y[~y_5_or_6]\n",
        "  y_A[y_A > 6] -=2 #class indices 7, 8, 9 should be moved to 5, 6, 7\n",
        "  y_B = (y[y_5_or_6] == 6).astype(np.float32) #binary classification task: is it a shirt (class 6)?\n",
        "  return ((X[~y_5_or_6], y_A),\n",
        "          (X[y_5_or_6], y_B))\n",
        "  \n",
        "(X_train_A, y_train_A), (X_train_B, y_train_B) = split_dataset(X_train, y_train)\n",
        "(X_valid_A, y_valid_A), (X_valid_B, y_valid_B) = split_dataset(X_valid, y_valid)\n",
        "(X_test_A, y_test_A), (X_test_B, y_test_B) = split_dataset(X_test, y_test)\n",
        "X_train_B = X_train_B[:200]\n",
        "y_train_B = y_train_B[:200]"
      ],
      "execution_count": null,
      "outputs": []
    },
    {
      "cell_type": "code",
      "metadata": {
        "id": "7ssOMHzjjoDk",
        "colab": {
          "base_uri": "https://localhost:8080/",
          "height": 34
        },
        "outputId": "3a83fe3a-6199-411e-860c-5a924eecac90"
      },
      "source": [
        "# Model A contains all the label except 5 and 6\n",
        "X_train_A.shape"
      ],
      "execution_count": null,
      "outputs": [
        {
          "output_type": "execute_result",
          "data": {
            "text/plain": [
              "(43986, 28, 28)"
            ]
          },
          "metadata": {
            "tags": []
          },
          "execution_count": 58
        }
      ]
    },
    {
      "cell_type": "code",
      "metadata": {
        "id": "Sbl1F3OCj36o",
        "colab": {
          "base_uri": "https://localhost:8080/",
          "height": 34
        },
        "outputId": "4f25019a-172e-450e-a01c-9ef041c1bd01"
      },
      "source": [
        "# Model B contains only label 5 or 6\n",
        "X_train_B.shape"
      ],
      "execution_count": null,
      "outputs": [
        {
          "output_type": "execute_result",
          "data": {
            "text/plain": [
              "(200, 28, 28)"
            ]
          },
          "metadata": {
            "tags": []
          },
          "execution_count": 59
        }
      ]
    },
    {
      "cell_type": "code",
      "metadata": {
        "id": "KYFuxnHRmza2",
        "colab": {
          "base_uri": "https://localhost:8080/",
          "height": 51
        },
        "outputId": "427fcba9-16f3-4074-8ef3-664ba217a8c4"
      },
      "source": [
        "y_train_A[:30]"
      ],
      "execution_count": null,
      "outputs": [
        {
          "output_type": "execute_result",
          "data": {
            "text/plain": [
              "array([4, 0, 5, 7, 7, 7, 4, 4, 3, 4, 0, 1, 6, 3, 4, 3, 2, 6, 5, 3, 4, 5,\n",
              "       1, 3, 4, 2, 0, 6, 7, 1], dtype=uint8)"
            ]
          },
          "metadata": {
            "tags": []
          },
          "execution_count": 60
        }
      ]
    },
    {
      "cell_type": "code",
      "metadata": {
        "id": "MBI-_MaGm467",
        "colab": {
          "base_uri": "https://localhost:8080/",
          "height": 51
        },
        "outputId": "badb0bbd-9464-4d38-9c2e-875f6beb2a17"
      },
      "source": [
        "y_train_B[:30]"
      ],
      "execution_count": null,
      "outputs": [
        {
          "output_type": "execute_result",
          "data": {
            "text/plain": [
              "array([1., 1., 0., 0., 0., 0., 1., 1., 1., 0., 0., 1., 1., 0., 0., 0., 0.,\n",
              "       0., 0., 1., 1., 0., 0., 1., 1., 0., 1., 1., 1., 1.], dtype=float32)"
            ]
          },
          "metadata": {
            "tags": []
          },
          "execution_count": 61
        }
      ]
    },
    {
      "cell_type": "code",
      "metadata": {
        "id": "bn678Bt3m8Nm"
      },
      "source": [
        "tf.random.set_seed(42)\n",
        "np.random.seed(42)"
      ],
      "execution_count": null,
      "outputs": []
    },
    {
      "cell_type": "code",
      "metadata": {
        "id": "dRdsPbBLnHMu"
      },
      "source": [
        "model_A = keras.models.Sequential()\n",
        "model_A.add(keras.layers.Flatten(input_shape = [28,28]))\n",
        "for n_hidden in (300, 100, 50, 50, 50):\n",
        "  model_A.add(keras.layers.Dense(n_hidden, activation = 'selu', kernel_initializer='lecun_normal'))\n",
        "model_A.add(keras.layers.Dense(8, activation = 'softmax'))"
      ],
      "execution_count": null,
      "outputs": []
    },
    {
      "cell_type": "code",
      "metadata": {
        "id": "cYcxtvmxoO76"
      },
      "source": [
        "model_A.compile(loss = \"sparse_categorical_crossentropy\",\n",
        "                optimizer = keras.optimizers.SGD(learning_rate=1e-3),\n",
        "                metrics = ['accuracy'])"
      ],
      "execution_count": null,
      "outputs": []
    },
    {
      "cell_type": "code",
      "metadata": {
        "id": "XsUJFjDYocsj"
      },
      "source": [
        "history = model_A.fit(X_train_A, y_train_A, epochs = 20,\n",
        "                      validation_data = (X_valid_A, y_valid_A))"
      ],
      "execution_count": null,
      "outputs": []
    },
    {
      "cell_type": "code",
      "metadata": {
        "id": "pOZveBXJo67e"
      },
      "source": [
        "model_A.save(\"my_model_A.h5\")"
      ],
      "execution_count": null,
      "outputs": []
    },
    {
      "cell_type": "code",
      "metadata": {
        "id": "IzggBjrMpE-A"
      },
      "source": [
        "model_B = keras.models.Sequential()\n",
        "model_B.add(keras.layers.Flatten(input_shape = [28, 28]))\n",
        "for n_hidden in (300, 100, 50, 50, 50):\n",
        "  model_B.add(keras.layers.Dense(n_hidden, activation='selu', kernel_initializer='lecun_normal'))\n",
        "\n",
        "model_B.add(keras.layers.Dense(1, activation='sigmoid'))"
      ],
      "execution_count": null,
      "outputs": []
    },
    {
      "cell_type": "code",
      "metadata": {
        "id": "bYaBIYCaposJ"
      },
      "source": [
        "model_B.compile(loss = \"binary_crossentropy\", \n",
        "                optimizer = keras.optimizers.SGD(learning_rate=1e-3),\n",
        "                metrics = ['accuracy'])"
      ],
      "execution_count": null,
      "outputs": []
    },
    {
      "cell_type": "code",
      "metadata": {
        "id": "UOLcJJIAp1Rf"
      },
      "source": [
        "history = model_B.fit(X_train_B, y_train_B, epochs = 20,\n",
        "                      validation_data = (X_valid_B, y_valid_B))"
      ],
      "execution_count": null,
      "outputs": []
    },
    {
      "cell_type": "code",
      "metadata": {
        "id": "CACfeiJRqH4S",
        "colab": {
          "base_uri": "https://localhost:8080/",
          "height": 391
        },
        "outputId": "64ede44a-93c4-40c5-9896-2e1ce9b63baa"
      },
      "source": [
        "model_B.summary()"
      ],
      "execution_count": null,
      "outputs": [
        {
          "output_type": "stream",
          "text": [
            "Model: \"sequential_8\"\n",
            "_________________________________________________________________\n",
            "Layer (type)                 Output Shape              Param #   \n",
            "=================================================================\n",
            "flatten_8 (Flatten)          (None, 784)               0         \n",
            "_________________________________________________________________\n",
            "dense_226 (Dense)            (None, 300)               235500    \n",
            "_________________________________________________________________\n",
            "dense_227 (Dense)            (None, 100)               30100     \n",
            "_________________________________________________________________\n",
            "dense_228 (Dense)            (None, 50)                5050      \n",
            "_________________________________________________________________\n",
            "dense_229 (Dense)            (None, 50)                2550      \n",
            "_________________________________________________________________\n",
            "dense_230 (Dense)            (None, 50)                2550      \n",
            "_________________________________________________________________\n",
            "dense_231 (Dense)            (None, 1)                 51        \n",
            "=================================================================\n",
            "Total params: 275,801\n",
            "Trainable params: 275,801\n",
            "Non-trainable params: 0\n",
            "_________________________________________________________________\n"
          ],
          "name": "stdout"
        }
      ]
    },
    {
      "cell_type": "code",
      "metadata": {
        "id": "Sq0dhOJCqhk_"
      },
      "source": [
        "model_A = keras.models.load_model(\"my_model_A.h5\")"
      ],
      "execution_count": null,
      "outputs": []
    },
    {
      "cell_type": "code",
      "metadata": {
        "id": "L8EJdmHSqrlM"
      },
      "source": [
        "model_B_on_A = keras.models.Sequential(model_A.layers[:-1])\n",
        "model_B_on_A.add(keras.layers.Dense(1, activation='sigmoid'))"
      ],
      "execution_count": null,
      "outputs": []
    },
    {
      "cell_type": "code",
      "metadata": {
        "id": "-s1VuUNNq6qc"
      },
      "source": [
        "model_A_clone = keras.models.clone_model(model_A)\n",
        "model_A_clone.set_weights(model_A.get_weights())"
      ],
      "execution_count": null,
      "outputs": []
    },
    {
      "cell_type": "code",
      "metadata": {
        "id": "5-c3k7Larkm2"
      },
      "source": [
        "for layer in model_B_on_A.layers[:-1]:\n",
        "  layer.trainable = False\n",
        "\n",
        "model_B_on_A.compile(loss = 'binary_crossentropy',\n",
        "                     optimizer = keras.optimizers.SGD(lr = 1e-4),\n",
        "                     metrics = ['accuracy'])"
      ],
      "execution_count": null,
      "outputs": []
    },
    {
      "cell_type": "code",
      "metadata": {
        "id": "xpo0IAmwr3ok"
      },
      "source": [
        "history = model_B_on_A.fit(X_train_B, y_train_B, epochs = 20,\n",
        "                           validation_data = (X_valid_B, y_valid_B))"
      ],
      "execution_count": null,
      "outputs": []
    },
    {
      "cell_type": "code",
      "metadata": {
        "id": "xH669P0csSP1",
        "colab": {
          "base_uri": "https://localhost:8080/",
          "height": 71
        },
        "outputId": "950b02af-504a-4ce4-d9d2-a596ce158cd1"
      },
      "source": [
        "model_B.evaluate(X_test_B, y_test_B)"
      ],
      "execution_count": null,
      "outputs": [
        {
          "output_type": "stream",
          "text": [
            "63/63 [==============================] - 0s 2ms/step - loss: 0.1060 - accuracy: 0.9835\n"
          ],
          "name": "stdout"
        },
        {
          "output_type": "execute_result",
          "data": {
            "text/plain": [
              "[0.10604177415370941, 0.9835000038146973]"
            ]
          },
          "metadata": {
            "tags": []
          },
          "execution_count": 76
        }
      ]
    },
    {
      "cell_type": "code",
      "metadata": {
        "id": "1pvt3nbZsX82",
        "colab": {
          "base_uri": "https://localhost:8080/",
          "height": 71
        },
        "outputId": "be6ece53-0c0a-4706-efd2-6467eb65347a"
      },
      "source": [
        "model_B_on_A.evaluate(X_test_B, y_test_B)"
      ],
      "execution_count": null,
      "outputs": [
        {
          "output_type": "stream",
          "text": [
            "63/63 [==============================] - 0s 2ms/step - loss: 0.5985 - accuracy: 0.6525\n"
          ],
          "name": "stdout"
        },
        {
          "output_type": "execute_result",
          "data": {
            "text/plain": [
              "[0.5984948873519897, 0.6524999737739563]"
            ]
          },
          "metadata": {
            "tags": []
          },
          "execution_count": 77
        }
      ]
    },
    {
      "cell_type": "markdown",
      "metadata": {
        "id": "lJYQtzXvyW1e"
      },
      "source": [
        "# Faster Optimizers\n",
        "\n",
        "Training a very large deep neural network can be painfully slow. So far we have seen\n",
        "four ways to speed up training (and reach a better solution): applying a good initialization strategy for the connection weights, using a good activation function, using\n",
        "Batch Normalization, and reusing parts of a pretrained network (possibly built on an\n",
        "auxiliary task or using unsupervised learning). Another huge speed boost comes from\n",
        "using a faster optimizer than the regular Gradient Descent optimizer."
      ]
    },
    {
      "cell_type": "markdown",
      "metadata": {
        "id": "MaLieWjxyrKD"
      },
      "source": [
        "**Momentum Optimization**\n",
        "\n",
        "Imagine a bowling ball rolling down a gentle slope on a smooth surface: it will start out slowly, but it will quickly pick up momentum until it eventually reaches terminal\n",
        "velocity (if there is some friction or air resistance). This is the very simple idea behind *momentum optimization*.\n",
        "In contrast, regular Gradient Descent will simply take small, regular steps down the slope, so the algorithm will take much more time to reach the bottom. \n",
        "\n",
        "\n",
        "Momentum optimization cares a great deal about what previous gradients were: at\n",
        "each iteration, it subtracts the local gradient from the *momentum vector* **m** (multiplied\n",
        "by the learning rate $\\eta$.), and it updates the weights by adding this momentum vector. In other words, the gradient is used for acceleration, not\n",
        "for speed. To simulate some sort of friction mechanism and prevent the momentum from growing too large, the algorithm introduces a new hyperparameter $\\beta$, called the\n",
        "momentum, which must be set between 0 (high friction) and 1 (no friction). A typical momentum value is 0.9."
      ]
    },
    {
      "cell_type": "code",
      "metadata": {
        "id": "H3r7JcWAzrqo"
      },
      "source": [
        "optimizer = keras.optimizers.SGD(learning_rate=0.001, momentum=0.9)"
      ],
      "execution_count": null,
      "outputs": []
    },
    {
      "cell_type": "markdown",
      "metadata": {
        "id": "nHcylqk1z5Wr"
      },
      "source": [
        "**Nesterov Accelerated Gradient**\n",
        "\n",
        "The Nesterov Accelerated\n",
        "Gradient (NAG) method, also known as Nesterov momentum optimization, measures\n",
        "the gradient of the cost function not at the local position $\\theta$. but slightly ahead in the direction of the momentum, at $\\theta + \\beta$**m**"
      ]
    },
    {
      "cell_type": "code",
      "metadata": {
        "id": "7mtoI8Vd0fv4"
      },
      "source": [
        "optimizer = keras.optimizers.SGD(lr = 0.001, momentum=0.9, nesterov=True)"
      ],
      "execution_count": null,
      "outputs": []
    },
    {
      "cell_type": "markdown",
      "metadata": {
        "id": "ZkEj6o1H0qPL"
      },
      "source": [
        "**AdaGrad**\n",
        "\n",
        "Consider the elongated bowl problem again: Gradient Descent starts by quickly going down the steepest slope, which does not point straight toward the global optimum, then it very slowly goes down to the bottom of the valley. It would be nice if the algorithm\n",
        "could correct its direction earlier to point a bit more toward the global optimum. The AdaGrad algorithm15 achieves this correction by scaling down the gradient vector along the steepest dimensions.\n",
        "\n",
        "AdaGrad frequently performs well for simple quadratic problems, but it often stops too early when training neural networks. The learning rate gets scaled down so much that the algorithm ends up stopping entirely before reaching the global optimum."
      ]
    },
    {
      "cell_type": "code",
      "metadata": {
        "id": "Lpf_7Vaw1fGe"
      },
      "source": [
        "optimizer = keras.optimizers.Adagrad(learning_rate=0.001)"
      ],
      "execution_count": null,
      "outputs": []
    },
    {
      "cell_type": "markdown",
      "metadata": {
        "id": "s0QUjuDI1rKg"
      },
      "source": [
        "**RMSProp**\n",
        "\n",
        "As we've seen, AdaGrad runs the risk of slowing down a bit too fast and never converging to the global optimum. The *RMSProp* algorithm fixes this by accumulating only the gradients from the most recent iterations (as opposed to all the gradients since the beginning of training). It does so by using exponential decay. The decay rate $\\beta$ is typically set to 0.9."
      ]
    },
    {
      "cell_type": "code",
      "metadata": {
        "id": "RFaY-Nyt2QGZ"
      },
      "source": [
        "optimizer = keras.optimizers.RMSprop(learning_rate=0.001, rho = 0.9)"
      ],
      "execution_count": null,
      "outputs": []
    },
    {
      "cell_type": "markdown",
      "metadata": {
        "id": "8YpeAsSI2e1V"
      },
      "source": [
        "**Adam Optimization:**\n",
        "\n",
        "Adam, which stands for *adaptive moment estimation*, combines the ideas of momentum optimization and RMSProp: just like momentum optimization, it keeps track of an exponentially decaying average of past gradients; and just like RMSProp, it keeps track of an exponentially decaying average of past squared gradients. \n",
        "\n",
        "Since Adam is an adaptive learning rate algorithm (like AdaGrad and RMSProp), it requires less tuning of the learning rate hyperparameter $\\eta$. We can often use the default value $\\eta$ = 0.001, making Adam even easier to use than Gradient Descent."
      ]
    },
    {
      "cell_type": "code",
      "metadata": {
        "id": "00ovu-_I3LC5"
      },
      "source": [
        "optimizer = keras.optimizers.Adam(learning_rate=0.001, beta_1=0.9, beta_2=0.999)"
      ],
      "execution_count": null,
      "outputs": []
    },
    {
      "cell_type": "markdown",
      "metadata": {
        "id": "lQ46YqXe3fY3"
      },
      "source": [
        "**Adamax Optimization**"
      ]
    },
    {
      "cell_type": "code",
      "metadata": {
        "id": "41VqzyZX3d1e"
      },
      "source": [
        "optimizer = keras.optimizers.Adamax(learning_rate=0.001, beta_1=0.9, beta_2=0.999)"
      ],
      "execution_count": null,
      "outputs": []
    },
    {
      "cell_type": "markdown",
      "metadata": {
        "id": "-yQXfyc73r95"
      },
      "source": [
        "**Nadam Optimization:**\n",
        "\n",
        "Nadam optimization is Adam optimization plus the Nesterov trick, so it will\n",
        "often converge slightly faster than Adam.\n"
      ]
    },
    {
      "cell_type": "code",
      "metadata": {
        "id": "01mSBree3eFe"
      },
      "source": [
        "optimizer = keras.optimizers.Nadam(learning_rate=0.001, beta_1=0.9, beta_2=0.999)"
      ],
      "execution_count": null,
      "outputs": []
    },
    {
      "cell_type": "markdown",
      "metadata": {
        "id": "WVBf1glv5BOk"
      },
      "source": [
        "# Learning Rate Scheduling\n",
        "\n",
        "Finding a good learning rate is very important. If you set it much too high, training may diverge. If you set it too\n",
        "low, training will eventually converge to the optimum, but it will take a very long time. If you set it slightly too high, it will make progress very quickly at first, but it will end up dancing around the optimum, never really settling down. If you have a\n",
        "limited computing budget, you may have to interrupt training before it has converged properly, yielding a suboptimal solution.\n",
        "\n",
        "A beneficial method is to start with a low learning rate, increase it, then drop it again. These strategies are called *learning schedules*."
      ]
    },
    {
      "cell_type": "markdown",
      "metadata": {
        "id": "v14_veXR5ywt"
      },
      "source": [
        "**Power Scheduling**\n",
        "\n",
        "lr = lr0/(1 + steps/s)**c\n",
        "\n",
        "* Keras uses c = 1, and s = 1/decay"
      ]
    },
    {
      "cell_type": "code",
      "metadata": {
        "id": "S5DJKPAG5_Il"
      },
      "source": [
        "optimizer = keras.optimizers.SGD(lr = 0.01, decay = 1e-4)"
      ],
      "execution_count": null,
      "outputs": []
    },
    {
      "cell_type": "code",
      "metadata": {
        "id": "2kCawkjs6JDf"
      },
      "source": [
        "model = keras.models.Sequential([\n",
        "        keras.layers.Flatten(input_shape = [28, 28]),\n",
        "        keras.layers.Dense(300, activation='selu', kernel_initializer='lecun_normal'),\n",
        "        keras.layers.Dense(100, activation='selu', kernel_initializer='lecun_normal'),\n",
        "        keras.layers.Dense(10, activation=\"softmax\")\n",
        "])"
      ],
      "execution_count": null,
      "outputs": []
    },
    {
      "cell_type": "code",
      "metadata": {
        "id": "FQS2cUPV6lGH"
      },
      "source": [
        "model.compile(loss = \"sparse_categorical_crossentropy\",\n",
        "              optimizer = optimizer,\n",
        "              metrics = ['accuracy'])"
      ],
      "execution_count": null,
      "outputs": []
    },
    {
      "cell_type": "code",
      "metadata": {
        "id": "9RWshwCs62_k"
      },
      "source": [
        "history = model.fit(X_train_scaled, y_train, epochs = 25,\n",
        "                    validation_data = (X_valid_scaled, y_valid))"
      ],
      "execution_count": null,
      "outputs": []
    },
    {
      "cell_type": "code",
      "metadata": {
        "id": "rW1OOT4aChnv",
        "colab": {
          "base_uri": "https://localhost:8080/",
          "height": 303
        },
        "outputId": "bb57cc9c-ee7e-4f28-8663-d004aebb0051"
      },
      "source": [
        "learning_rate = 0.01\n",
        "decay = 1e-4\n",
        "batch_size = 32\n",
        "n_epochs = 25\n",
        "n_steps_per_epoch = len(X_train)//batch_size #1718\n",
        "epochs = np.arange(n_epochs)\n",
        "lrs = learning_rate/(1+decay*epochs*n_steps_per_epoch)\n",
        "\n",
        "plt.plot(epochs, lrs, \"o-\")\n",
        "plt.axis([0, n_epochs-1, 0, 0.01])\n",
        "plt.xlabel(\"Epoch\")\n",
        "plt.ylabel(\"Learning rate\")\n",
        "plt.title(\"Power Scheduling\", fontsize = 14)\n",
        "plt.grid(True)\n",
        "plt.show()"
      ],
      "execution_count": null,
      "outputs": [
        {
          "output_type": "display_data",
          "data": {
            "image/png": "[encoded data removed]",
            "text/plain": [
              "<Figure size 432x288 with 1 Axes>"
            ]
          },
          "metadata": {
            "tags": [],
            "needs_background": "light"
          }
        }
      ]
    },
    {
      "cell_type": "markdown",
      "metadata": {
        "id": "ee6CprTRFGxr"
      },
      "source": [
        "**Exponential Scheduling**\n",
        "\n",
        "lr = lr0 * 0.1 ** (epoch/s)"
      ]
    },
    {
      "cell_type": "code",
      "metadata": {
        "id": "wnVc89AYFayT"
      },
      "source": [
        "def exponential_decay_fn(epoch):\n",
        "  return 0.01 * 0.1**(epoch/20)"
      ],
      "execution_count": null,
      "outputs": []
    },
    {
      "cell_type": "code",
      "metadata": {
        "id": "uU0JEkJaFm7C"
      },
      "source": [
        "def exponential_decay(lr0, s):\n",
        "  def exponential_decay_fn(epoch):\n",
        "    return lr0 * 0.1**(epoch/s)\n",
        "  return exponential_decay_fn\n",
        "\n",
        "exponential_decay_fn = exponential_decay(lr0 = 0.01, s = 20)"
      ],
      "execution_count": null,
      "outputs": []
    },
    {
      "cell_type": "code",
      "metadata": {
        "id": "eq_YpwDQF89q"
      },
      "source": [
        "model = keras.models.Sequential([\n",
        "        keras.layers.Flatten(input_shape = [28,28]),\n",
        "        keras.layers.Dense(300, activation='selu', kernel_initializer='lecun_normal'),\n",
        "        keras.layers.Dense(100, activation='selu', kernel_initializer='lecun_normal'),\n",
        "        keras.layers.Dense(10, activation='softmax')\n",
        "])"
      ],
      "execution_count": null,
      "outputs": []
    },
    {
      "cell_type": "code",
      "metadata": {
        "id": "Vm0_vCPXGZ0n"
      },
      "source": [
        "model.compile(loss = \"sparse_categorical_crossentropy\",\n",
        "              optimizer='nadam', metrics = ['accuracy'])"
      ],
      "execution_count": null,
      "outputs": []
    },
    {
      "cell_type": "code",
      "metadata": {
        "id": "ukmEqjBDGoRT"
      },
      "source": [
        "lr_scheduler = keras.callbacks.LearningRateScheduler(exponential_decay_fn)\n",
        "history = model.fit(X_train_scaled, y_train, epochs = 25,\n",
        "                    validation_data = (X_valid_scaled, y_valid),\n",
        "                    callbacks = [lr_scheduler])"
      ],
      "execution_count": null,
      "outputs": []
    },
    {
      "cell_type": "code",
      "metadata": {
        "id": "pnYT6fDbH211",
        "colab": {
          "base_uri": "https://localhost:8080/",
          "height": 303
        },
        "outputId": "d72008fa-e2f1-42e6-f52b-01c2e77ba8aa"
      },
      "source": [
        "plt.plot(history.epoch, history.history['lr'], 'o-')\n",
        "plt.xlabel(\"Epochs\")\n",
        "plt.ylabel(\"Learning Rate\")\n",
        "plt.title(\"Exponential Smoothing\", fontsize = 14)\n",
        "plt.axis([0, n_epochs - 1, 0, 0.011])\n",
        "plt.grid(True)\n",
        "plt.show()"
      ],
      "execution_count": null,
      "outputs": [
        {
          "output_type": "display_data",
          "data": {
            "image/png": "[encoded data removed]",
            "text/plain": [
              "<Figure size 432x288 with 1 Axes>"
            ]
          },
          "metadata": {
            "tags": [],
            "needs_background": "light"
          }
        }
      ]
    },
    {
      "cell_type": "markdown",
      "metadata": {
        "id": "J0wlD8cVJYsk"
      },
      "source": [
        "The schedule function can take the current learning rate as a second argument:"
      ]
    },
    {
      "cell_type": "code",
      "metadata": {
        "id": "ZPiZ6-CpJf8h"
      },
      "source": [
        "def exponential_decay_fn(epoch, lr):\n",
        "  return lr * 0.1**(1/20)"
      ],
      "execution_count": null,
      "outputs": []
    },
    {
      "cell_type": "markdown",
      "metadata": {
        "id": "wjD9zq7YJp1n"
      },
      "source": [
        "If you want to update the learning rate at each iteration rather than at each epoch, you must write your own callback class:"
      ]
    },
    {
      "cell_type": "code",
      "metadata": {
        "id": "bi-gs6voJzOZ"
      },
      "source": [
        "K = keras.backend\n",
        "\n",
        "class ExponentialDecay(keras.callbacks.Callback):\n",
        "  def __init__(self, s = 40000):\n",
        "    super().__init__()\n",
        "    self.s = s\n",
        "\n",
        "  def on_batch_begin(self, batch, logs = None):\n",
        "    #Note: the \"batch\" argument is reset at each epoch\n",
        "    lr = K.get_value(self.model.optimizer.lr)\n",
        "    K.set_value(self.model.optimizer.lr, lr*0.1**(1/s))\n",
        "\n",
        "  def on_epoch_end(self, epoch, logs = None):\n",
        "    logs = logs or {}\n",
        "    logs['lr'] = K.get_value(self.model.optimizer.lr)\n",
        "\n",
        "model = keras.models.Sequential([\n",
        "        keras.layers.Flatten(input_shape = [28, 28]),\n",
        "        keras.layers.Dense(300, activation='selu', kernel_initializer='lecun_normal'),\n",
        "        keras.layers.Dense(100, activation='selu', kernel_initializer='lecun_normal'),\n",
        "        keras.layers.Dense(10, activation='softmax')\n",
        "])\n",
        "\n",
        "lr0 = 0.01\n",
        "optimizer = keras.optimizers.Nadam(lr = lr0)\n",
        "model.compile(loss = \"sparse_categorical_crossentropy\",\n",
        "              optimizer = optimizer, metrics = ['accuracy'])\n",
        "\n",
        "n_epochs = 25\n",
        "s = 20*len(X_train)//32 #Number of steps in 20 epochs (batch size = 32)\n",
        "exp_decay = ExponentialDecay(s)\n",
        "history = model.fit(X_train_scaled, y_train, epochs = n_epochs,\n",
        "                    validation_data = (X_valid_scaled, y_valid),\n",
        "                    callbacks = [exp_decay])"
      ],
      "execution_count": null,
      "outputs": []
    },
    {
      "cell_type": "code",
      "metadata": {
        "id": "oFvmyM7uLwrx"
      },
      "source": [
        "n_steps = n_epochs * len(X_train)//32\n",
        "steps = np.arange(n_steps)\n",
        "lrs = lr0 * 0.1**(steps/s)"
      ],
      "execution_count": null,
      "outputs": []
    },
    {
      "cell_type": "code",
      "metadata": {
        "id": "gvY_C5HDL6N4",
        "colab": {
          "base_uri": "https://localhost:8080/",
          "height": 303
        },
        "outputId": "c970eef0-b595-466e-cb80-08607f1ff64b"
      },
      "source": [
        "plt.plot(steps, lrs, \"-\", linewidth = 2)\n",
        "plt.axis([0, n_steps - 1, 0, lr0*1.1])\n",
        "plt.xlabel(\"Batch\")\n",
        "plt.ylabel(\"Learning Rate\")\n",
        "plt.title(\"Exponential Scheduling (per batch)\", fontsize = 14)\n",
        "plt.grid(True)\n",
        "plt.show()"
      ],
      "execution_count": null,
      "outputs": [
        {
          "output_type": "display_data",
          "data": {
            "image/png": "[encoded data removed]",
            "text/plain": [
              "<Figure size 432x288 with 1 Axes>"
            ]
          },
          "metadata": {
            "tags": [],
            "needs_background": "light"
          }
        }
      ]
    },
    {
      "cell_type": "markdown",
      "metadata": {
        "id": "RmTZeKsvYS-l"
      },
      "source": [
        "**Piecewise Constant Scheduling**\n"
      ]
    },
    {
      "cell_type": "code",
      "metadata": {
        "id": "lhWtoZFSYbFw"
      },
      "source": [
        "def piecewise_constant_fn(epoch):\n",
        "  if epoch < 5:\n",
        "    return 0.01\n",
        "  elif epoch < 15:\n",
        "    return 0.005\n",
        "  else: \n",
        "    return 0.001"
      ],
      "execution_count": null,
      "outputs": []
    },
    {
      "cell_type": "code",
      "metadata": {
        "id": "qdIHO7P_YzlL"
      },
      "source": [
        "def piecewise_constant(boundaries, values):\n",
        "  boundaries = np.array([0] + boundaries)\n",
        "  values = np.array(values)\n",
        "  def piecewise_constant_fn(epoch):\n",
        "    return values[np.argmax(boundaries > epoch) - 1]\n",
        "  return piecewise_constant_fn\n",
        "\n",
        "piecewise_constant_fn = piecewise_constant([5, 15], [0.01, 0.005, 0.001])"
      ],
      "execution_count": null,
      "outputs": []
    },
    {
      "cell_type": "code",
      "metadata": {
        "id": "5H0qml7Baan1"
      },
      "source": [
        "lr_scheduler = keras.callbacks.LearningRateScheduler(piecewise_constant_fn)\n",
        "\n",
        "model = keras.models.Sequential([\n",
        "        keras.layers.Flatten(input_shape = [28, 28]),\n",
        "        keras.layers.Dense(300, activation='selu', kernel_initializer='lecun_normal'),\n",
        "        keras.layers.Dense(100, activation='selu', kernel_initializer='lecun_normal'),\n",
        "        keras.layers.Dense(10, activation='softmax')                        \n",
        "])"
      ],
      "execution_count": null,
      "outputs": []
    },
    {
      "cell_type": "code",
      "metadata": {
        "id": "Z4aqmBmbfArl"
      },
      "source": [
        "model.compile(loss = \"sparse_categorical_crossentropy\", \n",
        "              optimizer = 'nadam',\n",
        "              metrics = ['accuracy'])\n",
        "n_epochs = 25"
      ],
      "execution_count": null,
      "outputs": []
    },
    {
      "cell_type": "code",
      "metadata": {
        "id": "ZnjWISEofLgE"
      },
      "source": [
        "history = model.fit(X_train_scaled, y_train, epochs = n_epochs,\n",
        "                    validation_data = (X_valid_scaled, y_valid),\n",
        "                    callbacks = [lr_scheduler])"
      ],
      "execution_count": null,
      "outputs": []
    },
    {
      "cell_type": "code",
      "metadata": {
        "id": "WBfi-q_YfjKX",
        "colab": {
          "base_uri": "https://localhost:8080/",
          "height": 303
        },
        "outputId": "0608bd5e-6630-432b-cce6-4f5b4cde3d87"
      },
      "source": [
        "plt.plot(history.epoch, [piecewise_constant_fn(epoch) for epoch in history.epoch], \"o-\")\n",
        "plt.axis([0, n_epochs - 1, 0, 0.011])\n",
        "plt.xlabel(\"Epoch\")\n",
        "plt.ylabel(\"Learning Rate\")\n",
        "plt.title(\"Piecewise Constant Scheduling\", fontsize = 14)\n",
        "plt.grid(True)\n",
        "plt.show()"
      ],
      "execution_count": null,
      "outputs": [
        {
          "output_type": "display_data",
          "data": {
            "image/png": "[encoded data removed]",
            "text/plain": [
              "<Figure size 432x288 with 1 Axes>"
            ]
          },
          "metadata": {
            "tags": [],
            "needs_background": "light"
          }
        }
      ]
    },
    {
      "cell_type": "code",
      "metadata": {
        "id": "_JLbLwxRmzUw"
      },
      "source": [
        "#Try this:\n",
        "\n",
        "learning_rate = keras.optimizers.schedules.PiecewiseConstantDecay(\n",
        "    boundaries = [5 * n_steps_per_epoch, 15*n_steps_per_epoch],\n",
        "    values = [0.01, 0.005, 0.001]\n",
        ")"
      ],
      "execution_count": null,
      "outputs": []
    },
    {
      "cell_type": "markdown",
      "metadata": {
        "id": "9eW_TXc3g4ms"
      },
      "source": [
        "**Performance Scheduling**"
      ]
    },
    {
      "cell_type": "code",
      "metadata": {
        "id": "i1qBjPfWg8Kg"
      },
      "source": [
        "tf.random.set_seed(42)\n",
        "np.random.seed(42)"
      ],
      "execution_count": null,
      "outputs": []
    },
    {
      "cell_type": "code",
      "metadata": {
        "id": "t-ozdFIVhBH0"
      },
      "source": [
        "lr_scheduler = keras.callbacks.ReduceLROnPlateau(factor=0.5, patience = 5)\n",
        "\n",
        "model = keras.models.Sequential([\n",
        "        keras.layers.Flatten(input_shape = [28, 28]),\n",
        "        keras.layers.Dense(300, activation='selu', kernel_initializer='lecun_normal'),\n",
        "        keras.layers.Dense(100, activation='selu', kernel_initializer='lecun_normal'),\n",
        "        keras.layers.Dense(10, activation='softmax')\n",
        "        ])"
      ],
      "execution_count": null,
      "outputs": []
    },
    {
      "cell_type": "code",
      "metadata": {
        "id": "I-GI9yKMjGUO"
      },
      "source": [
        "optimizer = keras.optimizers.SGD(lr = 0.02, momentum = 0.9)"
      ],
      "execution_count": null,
      "outputs": []
    },
    {
      "cell_type": "code",
      "metadata": {
        "id": "3w9WiOljjOwN"
      },
      "source": [
        "model.compile(loss = 'sparse_categorical_crossentropy',\n",
        "              optimizer = optimizer, \n",
        "              metrics = ['accuracy'])"
      ],
      "execution_count": null,
      "outputs": []
    },
    {
      "cell_type": "code",
      "metadata": {
        "id": "IkfP-WXsjZIk"
      },
      "source": [
        "n_epochs = 25\n",
        "history = model.fit(X_train_scaled, y_train, epochs = n_epochs,\n",
        "                    validation_data = (X_valid_scaled, y_valid),\n",
        "                    callbacks = [lr_scheduler])"
      ],
      "execution_count": null,
      "outputs": []
    },
    {
      "cell_type": "code",
      "metadata": {
        "id": "MxwYX0MNj2zY",
        "colab": {
          "base_uri": "https://localhost:8080/",
          "height": 303
        },
        "outputId": "6b2d193b-6137-4a47-bb81-285e9b81f948"
      },
      "source": [
        "plt.plot(history.epoch, history.history['lr'], 'bo-')\n",
        "plt.xlabel(\"Epoch\")\n",
        "plt.ylabel(\"Learning rate\", color = 'b')\n",
        "plt.tick_params(\"y\", colors = 'b')\n",
        "plt.gca().set_xlim(0, n_epochs - 1)\n",
        "plt.grid(True)\n",
        "\n",
        "ax2 = plt.gca().twinx()\n",
        "ax2.plot(history.epoch, history.history['val_loss'], \"r^-\")\n",
        "ax2.set_ylabel(\"Validation Loss\", color = 'r')\n",
        "ax2.tick_params('y', colors = 'r')\n",
        "plt.title(\"Reduce LR on Plateau\", fontsize = 14)\n",
        "plt.show()"
      ],
      "execution_count": null,
      "outputs": [
        {
          "output_type": "display_data",
          "data": {
            "image/png": "[encoded data removed]",
            "text/plain": [
              "<Figure size 432x288 with 2 Axes>"
            ]
          },
          "metadata": {
            "tags": [],
            "needs_background": "light"
          }
        }
      ]
    },
    {
      "cell_type": "markdown",
      "metadata": {
        "id": "zyVo4VT6la2H"
      },
      "source": [
        "**tf.keras. schedulers**"
      ]
    },
    {
      "cell_type": "code",
      "metadata": {
        "id": "zsk43aZ5lfsx"
      },
      "source": [
        "model = keras.models.Sequential([\n",
        "        keras.layers.Flatten(input_shape=[28,28]),\n",
        "        keras.layers.Dense(300, activation='selu', kernel_initializer='lecun_normal'),\n",
        "        keras.layers.Dense(100, activation='selu', kernel_initializer='lecun_normal'),\n",
        "        keras.layers.Dense(10, activation = 'softmax')\n",
        "])"
      ],
      "execution_count": null,
      "outputs": []
    },
    {
      "cell_type": "code",
      "metadata": {
        "id": "GwbXgU7gl4qR"
      },
      "source": [
        "s = 20*len(X_train)//32 #Number of steps in 20 epochs (batch size = 32)\n",
        "learning_rate = keras.optimizers.schedules.ExponentialDecay(0.01, s, 0.1)\n",
        "optimizer = keras.optimizers.SGD(learning_rate)\n",
        "model.compile(loss = 'sparse_categorical_crossentropy', \n",
        "              optimizer=optimizer, metrics = ['accuracy'])\n",
        "history = model.fit(X_train_scaled, y_train, epochs = n_epochs,\n",
        "                    validation_data = (X_valid_scaled, y_valid))"
      ],
      "execution_count": null,
      "outputs": []
    },
    {
      "cell_type": "markdown",
      "metadata": {
        "id": "m3L8vSTNnQO8"
      },
      "source": [
        "**1Cycle scheduling**"
      ]
    },
    {
      "cell_type": "code",
      "metadata": {
        "id": "Ih8Ubij4nK5q"
      },
      "source": [
        "K = keras.backend\n",
        "\n",
        "class ExponentialLearningRate(keras.callbacks.Callback):\n",
        "\n",
        "  def __init__(self, factor):\n",
        "    self.factor = factor\n",
        "    self.rates = []\n",
        "    self.losses = []\n",
        "  def on_batch_end(self, batch, logs):\n",
        "    self.rates.append(K.get_value(self.model.optimizer.lr))\n",
        "    self.losses.append(logs['loss'])\n",
        "    K.set_value(self.model.optimizer.lr, self.model.optimizer.lr * self.factor)\n",
        "\n",
        "def find_learning_rate(model, X, y, epochs = 1, batch_size = 32, min_rate = 10**-5, max_rate=10):\n",
        "  init_weights = model.get_weights()\n",
        "  iterations = len(X)//batch_size*epochs\n",
        "  factor = np.exp(np.log(max_rate/min_rate)/iterations)\n",
        "  init_lr = K.get_value(model.optimizer.lr)\n",
        "  K.set_value(model.optimizer.lr, min_rate)\n",
        "  exp_lr = ExponentialLearningRate(factor)\n",
        "  history = model.fit(X, y, epochs = epochs, batch_size = batch_size,\n",
        "                      callbacks = [exp_lr])\n",
        "  K.set_value(model.optimizer.lr, init_lr)\n",
        "  model.set_weights(init_weights)\n",
        "  return exp_lr.rates, exp_lr.losses\n",
        "\n",
        "def plot_lr_vs_loss(rates, losses):\n",
        "  plt.plot(rates, losses)\n",
        "  plt.gca().set_xscale('log')\n",
        "  plt.hlines(min(losses), min(rates), max(rates))\n",
        "  plt.axis([min(rates), max(rates), min(losses), (losses[0] + min(losses))/2])\n",
        "  plt.xlabel(\"Learning Rate\")\n",
        "  plt.ylabel(\"Loss\")"
      ],
      "execution_count": null,
      "outputs": []
    },
    {
      "cell_type": "code",
      "metadata": {
        "id": "xSZR6GtqrNyC"
      },
      "source": [
        "tf.random.set_seed(42)\n",
        "np.random.seed(42)\n",
        "\n",
        "model = keras.models.Sequential([\n",
        "    keras.layers.Flatten(input_shape=[28, 28]),\n",
        "    keras.layers.Dense(300, activation=\"selu\", kernel_initializer=\"lecun_normal\"),\n",
        "    keras.layers.Dense(100, activation=\"selu\", kernel_initializer=\"lecun_normal\"),\n",
        "    keras.layers.Dense(10, activation=\"softmax\")\n",
        "])\n",
        "model.compile(loss=\"sparse_categorical_crossentropy\",\n",
        "              optimizer=keras.optimizers.SGD(lr=1e-3),\n",
        "              metrics=[\"accuracy\"])"
      ],
      "execution_count": null,
      "outputs": []
    },
    {
      "cell_type": "code",
      "metadata": {
        "id": "tT2NChFBrTS1",
        "colab": {
          "base_uri": "https://localhost:8080/",
          "height": 327
        },
        "outputId": "95467a71-2041-4f4c-ca16-278e0916bfee"
      },
      "source": [
        "batch_size = 128\n",
        "rates, losses = find_learning_rate(model, X_train_scaled, y_train, epochs=1, batch_size=batch_size)\n",
        "plot_lr_vs_loss(rates, losses)"
      ],
      "execution_count": null,
      "outputs": [
        {
          "output_type": "stream",
          "text": [
            "430/430 [==============================] - 2s 6ms/step - loss: nan - accuracy: 0.3862\n"
          ],
          "name": "stdout"
        },
        {
          "output_type": "display_data",
          "data": {
            "image/png": "[encoded data removed]",
            "text/plain": [
              "<Figure size 432x288 with 1 Axes>"
            ]
          },
          "metadata": {
            "tags": [],
            "needs_background": "light"
          }
        }
      ]
    },
    {
      "cell_type": "code",
      "metadata": {
        "id": "TBpVDYRvrk3T"
      },
      "source": [
        "class OneCycleScheduler(keras.callbacks.Callback):\n",
        "    def __init__(self, iterations, max_rate, start_rate=None,\n",
        "                 last_iterations=None, last_rate=None):\n",
        "        self.iterations = iterations\n",
        "        self.max_rate = max_rate\n",
        "        self.start_rate = start_rate or max_rate / 10\n",
        "        self.last_iterations = last_iterations or iterations // 10 + 1\n",
        "        self.half_iteration = (iterations - self.last_iterations) // 2\n",
        "        self.last_rate = last_rate or self.start_rate / 1000\n",
        "        self.iteration = 0\n",
        "    def _interpolate(self, iter1, iter2, rate1, rate2):\n",
        "        return ((rate2 - rate1) * (self.iteration - iter1)\n",
        "                / (iter2 - iter1) + rate1)\n",
        "    def on_batch_begin(self, batch, logs):\n",
        "        if self.iteration < self.half_iteration:\n",
        "            rate = self._interpolate(0, self.half_iteration, self.start_rate, self.max_rate)\n",
        "        elif self.iteration < 2 * self.half_iteration:\n",
        "            rate = self._interpolate(self.half_iteration, 2 * self.half_iteration,\n",
        "                                     self.max_rate, self.start_rate)\n",
        "        else:\n",
        "            rate = self._interpolate(2 * self.half_iteration, self.iterations,\n",
        "                                     self.start_rate, self.last_rate)\n",
        "            rate = max(rate, self.last_rate)\n",
        "        self.iteration += 1\n",
        "        K.set_value(self.model.optimizer.lr, rate)"
      ],
      "execution_count": null,
      "outputs": []
    },
    {
      "cell_type": "code",
      "metadata": {
        "id": "gLnV5ydursdM"
      },
      "source": [
        "n_epochs = 25\n",
        "onecycle = OneCycleScheduler(len(X_train) // batch_size * n_epochs, max_rate=0.05)\n",
        "history = model.fit(X_train_scaled, y_train, epochs=n_epochs, batch_size=batch_size,\n",
        "                    validation_data=(X_valid_scaled, y_valid),\n",
        "                    callbacks=[onecycle])"
      ],
      "execution_count": null,
      "outputs": []
    },
    {
      "cell_type": "markdown",
      "metadata": {
        "id": "ZDdHd2Fcslfv"
      },
      "source": [
        "# **Avoiding Overfitting Through Regularization**\n",
        "\n",
        "With thousands of parameters, you can fit the whole zoo. Deep neural networks typically have tens of thousands of parameters, sometimes even millions. This gives them an incredible amount of freedom and means they can fit a huge variety of complex datasets. But this great flexibility also makes the network prone to overfitting the\n",
        "training set. We need regularization.\n",
        "\n",
        "**l<sub>1</sub> and l<sub>2</sub> regularization**"
      ]
    },
    {
      "cell_type": "code",
      "metadata": {
        "id": "URxfninnsknm"
      },
      "source": [
        "layer = keras.layers.Dense(100, activation = 'elu',\n",
        "                           kernel_initializer = 'he_normal',  \n",
        "                           kernel_regularizer = keras.regularizers.l2(0.01)\n",
        "                           )\n",
        "# or l1(0.1) for l1 regularization with a factor of 0.1\n",
        "# or l1_l2(0.1, 0.01) for both l1 and l2  regularization, with factors 0.1 and 0.01 respectively"
      ],
      "execution_count": null,
      "outputs": []
    },
    {
      "cell_type": "code",
      "metadata": {
        "id": "rEC4rNoSphRf"
      },
      "source": [
        "model = keras.models.Sequential([\n",
        "        keras.layers.Flatten(input_shape = [28, 28]),\n",
        "        keras.layers.Dense(300, activation = 'elu', kernel_initializer = \"he_normal\", kernel_regularizer = keras.regularizers.l2(0.01)),\n",
        "        keras.layers.Dense(100, activation = 'elu', kernel_initializer = 'he_normal', kernel_regularizer = keras.regularizers.l2(0.01)),\n",
        "        keras.layers.Dense(10, activation = 'softmax', kernel_regularizer = keras.regularizers.l2(0.01))\n",
        "])"
      ],
      "execution_count": null,
      "outputs": []
    },
    {
      "cell_type": "code",
      "metadata": {
        "id": "YbllbCmUqXNQ"
      },
      "source": [
        "model.compile(loss=\"sparse_categorical_crossentropy\", optimizer=\"nadam\", metrics=[\"accuracy\"])\n",
        "n_epochs = 2"
      ],
      "execution_count": null,
      "outputs": []
    },
    {
      "cell_type": "code",
      "metadata": {
        "id": "tIgp7wy7tpW_",
        "colab": {
          "base_uri": "https://localhost:8080/",
          "height": 105
        },
        "outputId": "000364ea-6642-474e-9948-9ca94cfe04cc"
      },
      "source": [
        "history = model.fit(X_train_scaled, y_train, epochs=n_epochs, validation_data=(X_valid_scaled, y_valid))"
      ],
      "execution_count": null,
      "outputs": [
        {
          "output_type": "stream",
          "text": [
            "Epoch 1/2\n",
            "1719/1719 [==============================] - 12s 7ms/step - loss: 1.6698 - accuracy: 0.8116 - val_loss: 0.7189 - val_accuracy: 0.8324\n",
            "Epoch 2/2\n",
            "1719/1719 [==============================] - 11s 6ms/step - loss: 0.7182 - accuracy: 0.8276 - val_loss: 0.6814 - val_accuracy: 0.8376\n"
          ],
          "name": "stdout"
        }
      ]
    },
    {
      "cell_type": "code",
      "metadata": {
        "id": "Vke2ItBvq-CY",
        "colab": {
          "base_uri": "https://localhost:8080/",
          "height": 377
        },
        "outputId": "33ac990f-9f53-4ae1-a9e2-bbe7f09dd036"
      },
      "source": [
        "from functools import partial\n",
        "\n",
        "RegularizedDense = partial(keras.layers.Dense,\n",
        "                           activation = 'elu',\n",
        "                           kernel_initializer = 'he_normal',\n",
        "                           kernel_regularizer = keras.regularizers.l2(0.01))\n",
        "\n",
        "model = keras.models.Sequential([\n",
        "        keras.layers.Flatten(input_shape = [28, 28]),\n",
        "        keras.layers.Dense(300),\n",
        "        keras.layers.Dense(100),\n",
        "        keras.layers.Dense(10, activation = 'softmax')\n",
        "])\n",
        "\n",
        "model.compile(loss = 'sparse_categorical_crossentropy',\n",
        "              optimizer = 'nadam', metrics = ['accuracy'])\n",
        "\n",
        "history = model.fit(X_train_scaled, y_train, epochs = 10,\n",
        "                    validation_data = (X_valid_scaled, y_valid))"
      ],
      "execution_count": null,
      "outputs": [
        {
          "output_type": "stream",
          "text": [
            "Epoch 1/10\n",
            "1719/1719 [==============================] - 9s 5ms/step - loss: 0.5891 - accuracy: 0.8092 - val_loss: 0.4921 - val_accuracy: 0.8424\n",
            "Epoch 2/10\n",
            "1719/1719 [==============================] - 8s 5ms/step - loss: 0.4754 - accuracy: 0.8378 - val_loss: 0.4459 - val_accuracy: 0.8502\n",
            "Epoch 3/10\n",
            "1719/1719 [==============================] - 9s 5ms/step - loss: 0.4540 - accuracy: 0.8435 - val_loss: 0.4595 - val_accuracy: 0.8416\n",
            "Epoch 4/10\n",
            "1719/1719 [==============================] - 8s 5ms/step - loss: 0.4456 - accuracy: 0.8448 - val_loss: 0.4503 - val_accuracy: 0.8470\n",
            "Epoch 5/10\n",
            "1719/1719 [==============================] - 8s 5ms/step - loss: 0.4348 - accuracy: 0.8486 - val_loss: 0.4405 - val_accuracy: 0.8502\n",
            "Epoch 6/10\n",
            "1719/1719 [==============================] - 9s 5ms/step - loss: 0.4303 - accuracy: 0.8500 - val_loss: 0.4455 - val_accuracy: 0.8490\n",
            "Epoch 7/10\n",
            "1719/1719 [==============================] - 9s 5ms/step - loss: 0.4260 - accuracy: 0.8520 - val_loss: 0.4450 - val_accuracy: 0.8464\n",
            "Epoch 8/10\n",
            "1719/1719 [==============================] - 9s 5ms/step - loss: 0.4201 - accuracy: 0.8539 - val_loss: 0.4669 - val_accuracy: 0.8398\n",
            "Epoch 9/10\n",
            "1719/1719 [==============================] - 9s 5ms/step - loss: 0.4167 - accuracy: 0.8546 - val_loss: 0.4267 - val_accuracy: 0.8550\n",
            "Epoch 10/10\n",
            "1719/1719 [==============================] - 9s 5ms/step - loss: 0.4113 - accuracy: 0.8564 - val_loss: 0.4367 - val_accuracy: 0.8566\n"
          ],
          "name": "stdout"
        }
      ]
    },
    {
      "cell_type": "markdown",
      "metadata": {
        "id": "FjUU1OapsExh"
      },
      "source": [
        "**Dropout**\n",
        "\n",
        "It is a fairly simple algorithm: at every training step, every neuron (including the\n",
        "input neurons, but always excluding the output neurons) has a probability p of being\n",
        "temporarily “dropped out,” meaning it will be entirely ignored during this training\n",
        "step, but it may be active during the next step. The hyperparameter\n",
        "p is called the dropout rate, and it is typically set between 10% and 50%: closer to 20–\n",
        "30% in recurrent neural nets, and closer to 40–50% in convolutional\n",
        "neural networks. After training, neurons don’t get dropped any\n",
        "more."
      ]
    },
    {
      "cell_type": "code",
      "metadata": {
        "id": "BZUzuG0bsUWo",
        "colab": {
          "base_uri": "https://localhost:8080/",
          "height": 207
        },
        "outputId": "21f5eaf9-d27a-4803-992d-4f961b6fb454"
      },
      "source": [
        "model = keras.models.Sequential([\n",
        "        keras.layers.Flatten(input_shape = [28, 28]),\n",
        "        keras.layers.Dropout(rate = 0.2),\n",
        "        keras.layers.Dense(300, activation = 'elu', kernel_initializer='he_normal'),\n",
        "        keras.layers.Dropout(rate = 0.2),\n",
        "        keras.layers.Dense(100, activation='elu', kernel_initializer='he_normal'),\n",
        "        keras.layers.Dropout(rate = 0.2),\n",
        "        keras.layers.Dense(10, activation='softmax')\n",
        "])\n",
        "\n",
        "model.compile(loss = 'sparse_categorical_crossentropy', \n",
        "              optimizer = 'nadam', metrics = ['accuracy'])\n",
        "\n",
        "history = model.fit(X_train_scaled, y_train, epochs = 5,\n",
        "                    validation_data = (X_valid_scaled, y_valid))"
      ],
      "execution_count": null,
      "outputs": [
        {
          "output_type": "stream",
          "text": [
            "Epoch 1/5\n",
            "1719/1719 [==============================] - 10s 6ms/step - loss: 0.5775 - accuracy: 0.8027 - val_loss: 0.3777 - val_accuracy: 0.8624\n",
            "Epoch 2/5\n",
            "1719/1719 [==============================] - 10s 6ms/step - loss: 0.4193 - accuracy: 0.8470 - val_loss: 0.3396 - val_accuracy: 0.8732\n",
            "Epoch 3/5\n",
            "1719/1719 [==============================] - 9s 5ms/step - loss: 0.3871 - accuracy: 0.8561 - val_loss: 0.3429 - val_accuracy: 0.8674\n",
            "Epoch 4/5\n",
            "1719/1719 [==============================] - 9s 5ms/step - loss: 0.3686 - accuracy: 0.8629 - val_loss: 0.3143 - val_accuracy: 0.8830\n",
            "Epoch 5/5\n",
            "1719/1719 [==============================] - 10s 6ms/step - loss: 0.3572 - accuracy: 0.8669 - val_loss: 0.3005 - val_accuracy: 0.8900\n"
          ],
          "name": "stdout"
        }
      ]
    },
    {
      "cell_type": "markdown",
      "metadata": {
        "id": "lqBUc0Obx7o5"
      },
      "source": [
        "**Alpha Dropout**\n"
      ]
    },
    {
      "cell_type": "code",
      "metadata": {
        "id": "CvZQIaYDx_MU"
      },
      "source": [
        "tf.random.set_seed(42)\n",
        "np.random.seed(42)"
      ],
      "execution_count": null,
      "outputs": []
    },
    {
      "cell_type": "code",
      "metadata": {
        "id": "b2QjKl5HyDy1"
      },
      "source": [
        "model = keras.models.Sequential([\n",
        "        keras.layers.Flatten(input_shape = [28, 28]),\n",
        "        keras.layers.AlphaDropout(rate = 0.2),\n",
        "        keras.layers.Dense(300, activation='selu', kernel_initializer='lecun_normal'),\n",
        "        keras.layers.AlphaDropout(rate = 0.2),\n",
        "        keras.layers.Dense(100, activation='selu', kernel_initializer='lecun_normal'),\n",
        "        keras.layers.AlphaDropout(rate = 0.2),\n",
        "        keras.layers.Dense(10, activation='softmax')\n",
        "])"
      ],
      "execution_count": null,
      "outputs": []
    },
    {
      "cell_type": "code",
      "metadata": {
        "id": "BqzhHsk-zE-I"
      },
      "source": [
        "optimizer = keras.optimizers.SGD(lr = 0.01, momentum=0.9, nesterov=True)\n",
        "model.compile(loss = \"sparse_categorical_crossentropy\",\n",
        "              optimizer=optimizer, metrics = ['accuracy'])"
      ],
      "execution_count": null,
      "outputs": []
    },
    {
      "cell_type": "code",
      "metadata": {
        "id": "l_ip7T-MzU3e"
      },
      "source": [
        "model.fit(X_train_scaled, y_train, epochs = 20, \n",
        "          validation_data = (X_valid_scaled, y_valid))"
      ],
      "execution_count": null,
      "outputs": []
    },
    {
      "cell_type": "code",
      "metadata": {
        "id": "ttZFsSVQ2Z8m",
        "colab": {
          "base_uri": "https://localhost:8080/",
          "height": 71
        },
        "outputId": "f1fc1781-3665-46b3-8d85-e31da16c889c"
      },
      "source": [
        "model.evaluate(X_test_scaled, y_test)"
      ],
      "execution_count": null,
      "outputs": [
        {
          "output_type": "stream",
          "text": [
            "313/313 [==============================] - 1s 2ms/step - loss: 0.4625 - accuracy: 0.8631\n"
          ],
          "name": "stdout"
        },
        {
          "output_type": "execute_result",
          "data": {
            "text/plain": [
              "[0.4625047743320465, 0.863099992275238]"
            ]
          },
          "metadata": {
            "tags": []
          },
          "execution_count": 148
        }
      ]
    },
    {
      "cell_type": "markdown",
      "metadata": {
        "id": "FTJ8qIrU2_eO"
      },
      "source": [
        "**MC Dropout**\n",
        "\n"
      ]
    },
    {
      "cell_type": "code",
      "metadata": {
        "id": "5fFB8Y9L3NWr"
      },
      "source": [
        "tf.random.set_seed(42)\n",
        "np.random.seed(42)"
      ],
      "execution_count": null,
      "outputs": []
    },
    {
      "cell_type": "code",
      "metadata": {
        "id": "0zG-500l3TP-"
      },
      "source": [
        "y_probas = np.stack([model(X_test_scaled, training=True)\n",
        "                     for sample in range(100)])\n",
        "y_proba = y_probas.mean(axis=0)\n",
        "y_std = y_probas.std(axis=0)"
      ],
      "execution_count": null,
      "outputs": []
    },
    {
      "cell_type": "code",
      "metadata": {
        "id": "kON2kX5B3pd7",
        "colab": {
          "base_uri": "https://localhost:8080/",
          "height": 51
        },
        "outputId": "e88d835a-0502-4724-eb64-01706a12a401"
      },
      "source": [
        "np.round(model.predict(X_test_scaled[:1]), 2)"
      ],
      "execution_count": null,
      "outputs": [
        {
          "output_type": "execute_result",
          "data": {
            "text/plain": [
              "array([[0.  , 0.  , 0.  , 0.  , 0.  , 0.  , 0.  , 0.07, 0.  , 0.93]],\n",
              "      dtype=float32)"
            ]
          },
          "metadata": {
            "tags": []
          },
          "execution_count": 151
        }
      ]
    },
    {
      "cell_type": "code",
      "metadata": {
        "id": "-CkCGQsv3wK5"
      },
      "source": [
        "np.round(y_probas[:, :1], 2)"
      ],
      "execution_count": null,
      "outputs": []
    },
    {
      "cell_type": "code",
      "metadata": {
        "id": "twqLhozW33q2",
        "colab": {
          "base_uri": "https://localhost:8080/",
          "height": 51
        },
        "outputId": "dd44dc3c-82ab-4245-faa8-4854245e7505"
      },
      "source": [
        "np.round(y_proba[:1], 2)"
      ],
      "execution_count": null,
      "outputs": [
        {
          "output_type": "execute_result",
          "data": {
            "text/plain": [
              "array([[0.  , 0.  , 0.  , 0.  , 0.  , 0.11, 0.  , 0.29, 0.  , 0.6 ]],\n",
              "      dtype=float32)"
            ]
          },
          "metadata": {
            "tags": []
          },
          "execution_count": 153
        }
      ]
    },
    {
      "cell_type": "code",
      "metadata": {
        "id": "zGCwmw0C375D",
        "colab": {
          "base_uri": "https://localhost:8080/",
          "height": 51
        },
        "outputId": "678197c2-2e5d-4348-8242-ce162437f9c3"
      },
      "source": [
        "y_std = y_probas.std(axis = 0)\n",
        "np.round(y_std[:1], 2)"
      ],
      "execution_count": null,
      "outputs": [
        {
          "output_type": "execute_result",
          "data": {
            "text/plain": [
              "array([[0.  , 0.  , 0.  , 0.  , 0.  , 0.19, 0.  , 0.27, 0.  , 0.31]],\n",
              "      dtype=float32)"
            ]
          },
          "metadata": {
            "tags": []
          },
          "execution_count": 154
        }
      ]
    },
    {
      "cell_type": "code",
      "metadata": {
        "id": "ppEGVYeI4OyI"
      },
      "source": [
        "y_pred = np.argmax(y_proba, axis = 1)"
      ],
      "execution_count": null,
      "outputs": []
    },
    {
      "cell_type": "code",
      "metadata": {
        "id": "7IiLuoKA4T_-",
        "colab": {
          "base_uri": "https://localhost:8080/",
          "height": 34
        },
        "outputId": "e2391db7-0e27-474a-a82b-9ba985ad8664"
      },
      "source": [
        "accuracy = np.sum(y_pred == y_test)/len(y_test)\n",
        "accuracy"
      ],
      "execution_count": null,
      "outputs": [
        {
          "output_type": "execute_result",
          "data": {
            "text/plain": [
              "0.8656"
            ]
          },
          "metadata": {
            "tags": []
          },
          "execution_count": 156
        }
      ]
    },
    {
      "cell_type": "code",
      "metadata": {
        "id": "dH1WBjwQ56rf"
      },
      "source": [
        "class MCDroput(keras.layers.Dropout):\n",
        "  def call(self, inputs):\n",
        "    return super().call(inputs, training = True)\n",
        "\n",
        "class MCAlphaDroput(keras.layers.AlphaDropout):\n",
        "  def call(self, inputs):\n",
        "    return super().call(inputs, training = True)"
      ],
      "execution_count": null,
      "outputs": []
    },
    {
      "cell_type": "code",
      "metadata": {
        "id": "QD2RUVAl6T1x"
      },
      "source": [
        "tf.random.set_seed(42)\n",
        "np.random.seed(42)"
      ],
      "execution_count": null,
      "outputs": []
    },
    {
      "cell_type": "code",
      "metadata": {
        "id": "6inGQE9U6bFL"
      },
      "source": [
        "mc_model = keras.models.Sequential([\n",
        "           MCAlphaDroput(layer.rate) if isinstance(layer, keras.layers.AlphaDropout) else layer for layer in model.layers\n",
        "])"
      ],
      "execution_count": null,
      "outputs": []
    },
    {
      "cell_type": "code",
      "metadata": {
        "id": "Vfz2YuMl6uGF",
        "colab": {
          "base_uri": "https://localhost:8080/",
          "height": 391
        },
        "outputId": "e4c4aded-b6aa-4ee3-9629-a0e66d9b4057"
      },
      "source": [
        "mc_model.summary()"
      ],
      "execution_count": null,
      "outputs": [
        {
          "output_type": "stream",
          "text": [
            "Model: \"sequential_27\"\n",
            "_________________________________________________________________\n",
            "Layer (type)                 Output Shape              Param #   \n",
            "=================================================================\n",
            "flatten_22 (Flatten)         (None, 784)               0         \n",
            "_________________________________________________________________\n",
            "mc_alpha_droput_3 (MCAlphaDr (None, 784)               0         \n",
            "_________________________________________________________________\n",
            "dense_278 (Dense)            (None, 300)               235500    \n",
            "_________________________________________________________________\n",
            "mc_alpha_droput_4 (MCAlphaDr (None, 300)               0         \n",
            "_________________________________________________________________\n",
            "dense_279 (Dense)            (None, 100)               30100     \n",
            "_________________________________________________________________\n",
            "mc_alpha_droput_5 (MCAlphaDr (None, 100)               0         \n",
            "_________________________________________________________________\n",
            "dense_280 (Dense)            (None, 10)                1010      \n",
            "=================================================================\n",
            "Total params: 266,610\n",
            "Trainable params: 266,610\n",
            "Non-trainable params: 0\n",
            "_________________________________________________________________\n"
          ],
          "name": "stdout"
        }
      ]
    },
    {
      "cell_type": "code",
      "metadata": {
        "id": "Hut1tV9v6zgI"
      },
      "source": [
        "optimizer = keras.optimizers.SGD(lr = 0.01, momentum=0.9, nesterov=True)\n",
        "mc_model.compile(loss = \"sparse_categorical_crossentropy\", \n",
        "                 optimizer = optimizer, metrics = ['accuracy'])"
      ],
      "execution_count": null,
      "outputs": []
    },
    {
      "cell_type": "code",
      "metadata": {
        "id": "vWIPfq7f7DlU"
      },
      "source": [
        "mc_model.set_weights(model.get_weights())"
      ],
      "execution_count": null,
      "outputs": []
    },
    {
      "cell_type": "code",
      "metadata": {
        "id": "kOaenu4f7I_t",
        "colab": {
          "base_uri": "https://localhost:8080/",
          "height": 51
        },
        "outputId": "8aa09801-3895-4cf2-b429-d95464d5e3e4"
      },
      "source": [
        "np.round(np.mean([mc_model.predict(X_test_scaled[:1]) for sample in range(100)], axis = 0), 2)"
      ],
      "execution_count": null,
      "outputs": [
        {
          "output_type": "execute_result",
          "data": {
            "text/plain": [
              "array([[0.  , 0.  , 0.  , 0.  , 0.  , 0.08, 0.  , 0.35, 0.  , 0.57]],\n",
              "      dtype=float32)"
            ]
          },
          "metadata": {
            "tags": []
          },
          "execution_count": 164
        }
      ]
    },
    {
      "cell_type": "markdown",
      "metadata": {
        "id": "D798tpyh7zwE"
      },
      "source": [
        "**Max Norm**"
      ]
    },
    {
      "cell_type": "code",
      "metadata": {
        "id": "VDwqku8y72JG"
      },
      "source": [
        "layer = keras.layers.Dense(100, activation = 'selu', kernel_initializer='lecun_normal', kernel_constraint=keras.constraints.max_norm(1.))"
      ],
      "execution_count": null,
      "outputs": []
    },
    {
      "cell_type": "code",
      "metadata": {
        "id": "ynElPb9N8CQU"
      },
      "source": [
        "MaxNormDense = partial(keras.layers.Dense, activation = 'selu', kernel_initializer = 'lecun_normal', kernel_constraint = keras.constraints.max_norm(1.))\n",
        "\n",
        "model = keras.models.Sequential([\n",
        "        keras.layers.Flatten(input_shape = [28, 28]),\n",
        "        MaxNormDense(300),\n",
        "        MaxNormDense(100),\n",
        "        keras.layers.Dense(10, activation='softmax')\n",
        "])\n",
        "\n",
        "model.compile(loss = \"sparse_categorical_crossentropy\", \n",
        "              optimizer = 'nadam', metrics = ['accuracy'])\n",
        "\n",
        "history = model.fit(X_train_scaled, y_train, epochs = 20, \n",
        "                    validation_data = (X_valid_scaled, y_valid))"
      ],
      "execution_count": null,
      "outputs": []
    }
  ]
}